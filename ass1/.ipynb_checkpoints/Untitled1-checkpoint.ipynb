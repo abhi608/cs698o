{
 "cells": [
  {
   "cell_type": "code",
   "execution_count": 3,
   "metadata": {
    "collapsed": true
   },
   "outputs": [],
   "source": [
    "from __future__ import division, print_function, unicode_literals\n",
    "import numpy as np\n",
    "import torch\n",
    "import torch.utils.data\n",
    "import torchvision.models as models\n",
    "import torchvision.transforms as transforms\n",
    "import glob\n",
    "from scipy import misc\n",
    "from PIL import Image\n",
    "\n",
    "%matplotlib inline\n",
    "import matplotlib.pyplot as plt"
   ]
  },
  {
   "cell_type": "code",
   "execution_count": 67,
   "metadata": {},
   "outputs": [
    {
     "name": "stdout",
     "output_type": "stream",
     "text": [
      "[u'./notMNIST_small/test/A/RmFuZGFuZ28ub3Rm.png', u'./notMNIST_small/test/A/SGFsbG1hcmtlIEJvbGQudHRm.png', u'./notMNIST_small/test/A/Q29tcGVuZGl1bSBCbGFjayBTU2kgQmxhY2sudHRm.png', u'./notMNIST_small/test/A/Qm9va21hbklUQ1N0ZC1MaWdodEl0YWxpYy5vdGY=.png', u'./notMNIST_small/test/A/Q2FycmVOb2lyU3RkLUJvbGRJdGFsaWMub3Rm.png', u'./notMNIST_small/test/A/R2FycmljayBUaGluIEJvbGQudHRm.png', u'./notMNIST_small/test/A/RGVtb2NyYXRpY2FSZWd1bGFyT2xkc3R5bGUub3Rm.png', u'./notMNIST_small/test/A/QWRpbmVLaXJuYmVyZyBSZWd1bGFyKDEpLnR0Zg==.png', u'./notMNIST_small/test/A/QmVsaXppb0JvbGQub3Rm.png', u'./notMNIST_small/test/A/Q29vcGVyIEJsayBCVCBCbGFjay50dGY=.png', u'./notMNIST_small/test/A/Q29zbW9zQlEtTGlnaHRJdGFsaWMub3Rm.png', u'./notMNIST_small/test/A/RGlnaUdyb3Rlc2tORUYtQm9sZENvbmRlbnMub3Rm.png', u'./notMNIST_small/test/A/RXJhcyBVbHRyYSBCVC50dGY=.png', u'./notMNIST_small/test/A/Q2F0dWxsIChSKSBNZWRpdSBPc0YudHRm.png', u'./notMNIST_small/test/A/R2lvdmFubmktQm9sZEl0YWxpYy5vdGY=.png', u'./notMNIST_small/test/A/Q29uY3Vyc29Nb2Rlcm5lIEJUTiBMdC50dGY=.png', u'./notMNIST_small/test/A/R2lnZ2xlcyBXaWdnbGVzIEJUTi50dGY=.png', u'./notMNIST_small/test/A/Q2xhcmVuZG9uQlEtQmxhY2sub3Rm.png', u'./notMNIST_small/test/A/Rm9saW8tQm9sZC5vdGY=.png', u'./notMNIST_small/test/A/RXVyb3BlRXh0LUJvbGQub3Rm.png', u'./notMNIST_small/test/A/Q2hlbHRlbmhtIEJUIFJvbWFuLnR0Zg==.png', u'./notMNIST_small/test/A/QXJyaWJhQXJyaWJhU3RkLm90Zg==.png', u'./notMNIST_small/test/A/QmVydGhvbGQgV2FsYmF1bSBCb29rIE1lZGl1bSBJdGFsaWMgT2xkc3R5bGUgRmlndXJlcy5wZmI=.png', u'./notMNIST_small/test/A/Q3Jvbm9zUHJvLVJlZ3VsYXIub3Rm.png', u'./notMNIST_small/test/A/R3JhbnRFeHRlbmRlZCBPYmxpcXVlLnR0Zg==.png', u'./notMNIST_small/test/A/Q291cmllci1Cb2xkT2JsaXF1ZS5vdGY=.png', u'./notMNIST_small/test/A/RHlhZGlzSVRDU3RkLUJvbGRJdGFsaWMub3Rm.png', u'./notMNIST_small/test/A/SGVsdmV0aWNhTmV1ZUxULUJvbGRFeHRPYmwub3Rm.png', u'./notMNIST_small/test/A/Q29ycG9yYXRlIEEgRXhwZXJ0IEl0YWxpYyBPc0YudHRm.png', u'./notMNIST_small/test/A/RmFycmFoc0hhbmQgUmVndWxhci50dGY=.png', u'./notMNIST_small/test/A/R2FyYW1vbmRJdGNULUxpZ2h0Q29uZGVuc2VkSXRhbGljLm90Zg==.png', u'./notMNIST_small/test/A/Q29sdW1idXNNVFN0ZC1Cb2xkSXRhbGljLm90Zg==.png', u'./notMNIST_small/test/A/RWNsYXRJQ0cub3Rm.png', u'./notMNIST_small/test/A/SGVhZGxpbmUgQ29uZGVuc2VkIE5vcm1hbC50dGY=.png', u'./notMNIST_small/test/A/QWF1eCBQcm9UaGluIE9TRi50dGY=.png', u'./notMNIST_small/test/A/RmFybmhhbURpc3BsYXktQmxhY2sub3Rm.png', u'./notMNIST_small/test/A/Q2FybGEgQm9sZC50dGY=.png', u'./notMNIST_small/test/A/Q1FOLU1vbGVjdWxhci1EeW5hbW8tUmVndWxhci5vdGY=.png', u'./notMNIST_small/test/A/Q2lyY3VsYXIgRkMudHRm.png', u'./notMNIST_small/test/A/RmxvdHNhbSBTdGlmZiBVcHBlci50dGY=.png', u'./notMNIST_small/test/A/QXZhbnRHYXJkZUV4dExpdElUQy1PYmxpcXVlLm90Zg==.png', u'./notMNIST_small/test/A/SGVhZGVyMTc2Ny50dGY=.png', u'./notMNIST_small/test/A/RmxvcmlkYS1EZW1pQm9sZEl0YS5vdGY=.png', u'./notMNIST_small/test/A/RWxlcGhhbnQtTWVkaXVtLm90Zg==.png', u'./notMNIST_small/test/A/Q2VudHVyeSBHb3RoaWMudHRm.png', u'./notMNIST_small/test/A/RW1wb3JpdW0ub3Rm.png', u'./notMNIST_small/test/A/RXhwcmVzcyBEZWNvIEdvdGhpYyBTU2kudHRm.png', u'./notMNIST_small/test/A/RXZlcmx5c0hhbmQgUmVndWxhci50dGY=.png', u'./notMNIST_small/test/A/Q2xhcmVuZG9uIEh2IEJUIEhlYXZ5LnR0Zg==.png', u'./notMNIST_small/test/A/QW50aXF1ZU9saVQtQ29tcEl0YWwub3Rm.png', u'./notMNIST_small/test/A/Qm9kb25pLUl0YWxpYy5vdGY=.png', u'./notMNIST_small/test/A/Rm9saW8gRXh0cmEgQm9sZC5wZmI=.png', u'./notMNIST_small/test/A/QmFpbGV5U2Fuc0lUQ1N0ZC1Cb2xkLm90Zg==.png', u'./notMNIST_small/test/A/RGF2aWQgQm9sZCgxKS50dGY=.png', u'./notMNIST_small/test/A/RHluYW1vRHhjRFhDLm90Zg==.png', u'./notMNIST_small/test/A/RmlsemVyU2NyaXB0RUYtUmVndWxhci5vdGY=.png', u'./notMNIST_small/test/A/R2VvbWV0cjIxMiBCayBCVCBCb29rLnR0Zg==.png', u'./notMNIST_small/test/A/R2FyYW1vbmRQcmVtclByby1JdENhcHQub3Rm.png', u'./notMNIST_small/test/A/Qm9kb25pU2l4SVRDLUJvbGRJdGFsT1Mub3Rm.png', u'./notMNIST_small/test/A/RnJhbmtsaW5Hb3RoaWMtQm9va09ibGlxdWUub3Rm.png', u'./notMNIST_small/test/A/Qm9kb25pQy1Cb2xkSXRhbGljLm90Zg==.png', u'./notMNIST_small/test/A/R2lsZ29uZ28gTXV0b21iby50dGY=.png', u'./notMNIST_small/test/A/Q2dQaGVuaXhBbWVyaWNhbi50dGY=.png', u'./notMNIST_small/test/A/SGFuZGljYXAub3Rm.png', u'./notMNIST_small/test/A/RHluYW1vUnhlSXRhbGljSFhFLm90Zg==.png', u'./notMNIST_small/test/A/Q29udGludXVtIEJvbGQudHRm.png', u'./notMNIST_small/test/A/QWdlbmRhLUxpZ2h0RXh0cmFDb25kZW5zZWQub3Rm.png', u'./notMNIST_small/test/A/RGUgRnV0dXJhLnR0Zg==.png', u'./notMNIST_small/test/A/QnVsbC1VbmRlcklua2VkLm90Zg==.png', u'./notMNIST_small/test/A/RFRMQ2FzcGFyaVNULUJvbGQub3Rm.png', u'./notMNIST_small/test/A/RmxlbWlzaCBOb3JtYWwgTGVmdHkudHRm.png', u'./notMNIST_small/test/A/QmF1aGF1c0lUQ2J5QlQtTGlnaHQub3Rm.png', u'./notMNIST_small/test/A/QmFsbGFudGluZXNTY3JpcHRFRi1NZWRpdW0ub3Rm.png', u'./notMNIST_small/test/A/Qm9yZGVsbG8tU2hhZGVkLm90Zg==.png', u'./notMNIST_small/test/A/Q3JhenkgR2lybHogQmxvbmQgQlROLnR0Zg==.png', u'./notMNIST_small/test/A/R2FsbGVyeSBDb25kZW5zZWQgTm9ybWFsLnR0Zg==.png', u'./notMNIST_small/test/A/SGFuIFNvbG8gUHJvLnR0Zg==.png', u'./notMNIST_small/test/A/QnJ1c2g0NTUgQlQudHRm.png', u'./notMNIST_small/test/A/R3JlZWsgSXRhbGljLnR0Zg==.png', u'./notMNIST_small/test/A/R290aGljSG9ycm9yLnR0Zg==.png', u'./notMNIST_small/test/A/SWNsZXJmYWNlLVhsaWdodC5vdGY=.png', u'./notMNIST_small/test/A/Rm9saW9CVC1Cb2xkLm90Zg==.png', u'./notMNIST_small/test/A/QXBvbGxvTVQtU0Mub3Rm.png', u'./notMNIST_small/test/A/R2lvdmFubmlTdGQtQm9vay5vdGY=.png', u'./notMNIST_small/test/A/R2FyYW1vbmRQcmVtclByby5vdGY=.png', u'./notMNIST_small/test/A/RFRMTm9iZWxUTGlnaHQtSXRhbGljLm90Zg==.png', u'./notMNIST_small/test/A/QnJhbmRvIENvbmRlbnNlZCBOb3JtYWwudHRm.png', u'./notMNIST_small/test/A/RXZvQlEtTWVkaXVtSXRhbGljLm90Zg==.png', u'./notMNIST_small/test/A/RGVsdGEtQ29uZGVuc2VkTm9ybWFsLnR0Zg==.png', u'./notMNIST_small/test/A/QXZhbnRHYXJkZUxULUNvbmREZW1pLm90Zg==.png', u'./notMNIST_small/test/A/RGVsdGEtTWVkaXVtLm90Zg==.png', u'./notMNIST_small/test/A/Q2hhbnNvbiBIZWF2eSBTRiBCb2xkIEl0YWxpYy50dGY=.png', u'./notMNIST_small/test/A/Qm91Z2FuIEJsYWNrIFNTaSBCb2xkLnR0Zg==.png', u'./notMNIST_small/test/A/QWRlbG9uLURlbWlCb2xkSXRhLm90Zg==.png', u'./notMNIST_small/test/A/QmlraW5pLnR0Zg==.png', u'./notMNIST_small/test/A/Q2FzbG9uIENhbGxpZ3JhcGhpYyBJbml0aWFscy50dGY=.png', u'./notMNIST_small/test/A/Q2xvY2t3b3JrIFJlZ3VsYXIudHRm.png', u'./notMNIST_small/test/A/QmFrZXIgU2lnbmV0IEJULnR0Zg==.png', u'./notMNIST_small/test/A/RmlyZWNhdC5vdGY=.png', u'./notMNIST_small/test/A/Q2FzbG9uIDU0MCBJdGFsaWMucGZi.png', u'./notMNIST_small/test/A/SGVhZGxpbmUgVGhpbiBJdGFsaWMudHRm.png', u'./notMNIST_small/test/A/Qml0c3RyZWFtIElvd2FuIE9sZCBTdHlsZS5wZmI=.png', u'./notMNIST_small/test/A/Q2hpY2Fnb0xhc2VyIE1lZGl1bS50dGY=.png', u'./notMNIST_small/test/A/RmFnb0NvLUNhcHMub3Rm.png', u'./notMNIST_small/test/A/Q292aW5ndG9uIFNoYWRvdyBJdGFsaWMudHRm.png', u'./notMNIST_small/test/A/Q0sgUGluay50dGY=.png', u'./notMNIST_small/test/A/QW50aXF1ZUFuY2llbm5lQ0UtSXRhbGljLm90Zg==.png', u'./notMNIST_small/test/A/Qm9uayBPdXRlcmN1dC50dGY=.png', u'./notMNIST_small/test/A/Q2VudHVyeS1Cb29rLm90Zg==.png', u'./notMNIST_small/test/A/QkRmYXplci5vdGY=.png', u'./notMNIST_small/test/A/RWlkZXRpY01vZGVybi5vdGY=.png', u'./notMNIST_small/test/A/Q2xlcmZhY2UtQm9sZEl0YS5vdGY=.png', u'./notMNIST_small/test/A/Qm9kb25pQy1JdGFsaWMub3Rm.png', u'./notMNIST_small/test/A/QmFza2VydmlsbGVCVC1Sb21hbi5vdGY=.png', u'./notMNIST_small/test/A/Q2FwaXRhbHMudHRm.png', u'./notMNIST_small/test/A/Q29tcGF0aWxGYWN0IExUIFJlZ3VsYXIgU21hbGwgQ2Fwcy50dGY=.png', u'./notMNIST_small/test/A/Qm90b24gUmVndWxhci50dGY=.png', u'./notMNIST_small/test/A/QWlybGluZS5vdGY=.png', u'./notMNIST_small/test/A/RGV2aWxpZXR0ZS50dGY=.png', u'./notMNIST_small/test/A/RGlkb3QtSFRGLUwyNC1MaWdodC1JdGFsLm90Zg==.png', u'./notMNIST_small/test/A/SVRDIEJlbmd1aWF0IEJvbGQgSXRhbGljLnBmYg==.png', u'./notMNIST_small/test/A/Q2hhbXBhZ25lSXRhbGljLm90Zg==.png', u'./notMNIST_small/test/A/Q2VudHVyeTczMUJULUJvbGRJdGFsaWNBLm90Zg==.png', u'./notMNIST_small/test/A/SG9nd2FydHNXaXphcmQudHRm.png', u'./notMNIST_small/test/A/Qm9kb25pVHdlSVRDLUJvbGQub3Rm.png', u'./notMNIST_small/test/A/Q2xlYXJmYWNlR290aGljTFRTdGQtTGlnaHQub3Rm.png', u'./notMNIST_small/test/A/Qml0c3RyZWFtIEFtZXJpZ28gQm9sZC5wZmI=.png', u'./notMNIST_small/test/A/RHJ5IEdvb2RzIE5hcnJvdyBKTC50dGY=.png', u'./notMNIST_small/test/A/SHVtYW5pc3QgNTMxIEJsYWNrIEJULnR0Zg==.png', u'./notMNIST_small/test/A/RnV0dXJhRnV0dXJpc0MtQm9sZEl0YWxpYy5vdGY=.png', u'./notMNIST_small/test/A/SG9ib2tlbi1NZWRpdW0ub3Rm.png', u'./notMNIST_small/test/A/RWd5cHRpZW5uZUYtQm9sZC5vdGY=.png', u'./notMNIST_small/test/A/RnV0dXJpc0V4dHJhIEN5cmlsbGljQC50dGY=.png', u'./notMNIST_small/test/A/SG9uZGEgUmVndWxhci50dGY=.png', u'./notMNIST_small/test/A/SGFuZHdyaXRlIFJlZ3VsYXIudHRm.png', u'./notMNIST_small/test/A/RGltZW5zaW9uLm90Zg==.png', u'./notMNIST_small/test/A/QmxldyBFeHRlbmRlZCBJdGFsaWMudHRm.png', u'./notMNIST_small/test/A/R3JvdGVzcXVlTVRTdGQtTGlnaHRJdGFsaWMub3Rm.png', u'./notMNIST_small/test/A/RW52aWV3IExpZ2h0IEl0YWxpYy50dGY=.png', u'./notMNIST_small/test/A/Q29zdGFQdGYtRXh0cmFCb2xkLm90Zg==.png', u'./notMNIST_small/test/A/QnJ1aG5TY3JpcHQtU3RyYWlnaHRlbmVkLm90Zg==.png', u'./notMNIST_small/test/A/QmVtYm8tU0Mub3Rm.png', u'./notMNIST_small/test/A/R2FyYW1vbmRNVC1BbHRlcm5hdGl2ZUl0YWxpYy5vdGY=.png', u'./notMNIST_small/test/A/Rm9saW9CUS1FeHRyYUJvbGQub3Rm.png', u'./notMNIST_small/test/A/SGVsbGVuaWMgTm9ybWFsLnR0Zg==.png', u'./notMNIST_small/test/A/Qm9va2VyLm90Zg==.png', u'./notMNIST_small/test/A/QW1UeXBld3JpdGVyRUYtTGlnaHQub3Rm.png', u'./notMNIST_small/test/A/Q2l0aXplbkxpZ2h0Lm90Zg==.png', u'./notMNIST_small/test/A/QXV0bzItSXRhbGljLnR0Zg==.png', u'./notMNIST_small/test/A/RmxvdXJpc2hCb2xkU3BlY2lhbC5vdGY=.png', u'./notMNIST_small/test/A/Q2VudHVyeSA3MzEgQm9sZC5wZmI=.png', u'./notMNIST_small/test/A/RnVzaW9uLnR0Zg==.png', u'./notMNIST_small/test/A/RWxla3Ryb24udHRm.png', u'./notMNIST_small/test/A/QXVyaW9sLUJvbGRJdGFsaWMub3Rm.png', u'./notMNIST_small/test/A/Q2FlY2lsaWEtSGVhdnlJdGFsaWNPc0Yub3Rm.png', u'./notMNIST_small/test/A/R2lhY29tbyBNZWRpdW0ub3Rm.png', u'./notMNIST_small/test/A/Q2dGdXR1cmFNYXhpTHQudHRm.png', u'./notMNIST_small/test/A/Q2xlcmZhY2UtQm9sZC5vdGY=.png', u'./notMNIST_small/test/A/R290aGljNzIwIEx0IEJUIExpZ2h0LnR0Zg==.png', u'./notMNIST_small/test/A/SVRDIFRpZXBvbG8gQmxhY2sgSXRhbGljLnBmYg==.png', u'./notMNIST_small/test/A/QmVybnlLbGluZ29uLnR0Zg==.png', u'./notMNIST_small/test/A/RmxvcmVuY2VzYW5zIENvbmQgQm9sZCBJdGFsaWMudHRm.png', u'./notMNIST_small/test/A/SGVhcnR3b29kIERpc3BsYXkgU1NpLnR0Zg==.png', u'./notMNIST_small/test/A/QnJhaW5oZWFkLnR0Zg==.png', u'./notMNIST_small/test/A/SGVsdmV0aWNhLU5hcnJvdy1Cb2xkLm90Zg==.png', u'./notMNIST_small/test/A/Rm9saW9CVC1MaWdodEl0YWxpYy5vdGY=.png', u'./notMNIST_small/test/A/R2FydGhHcmFwaGljLUNvbmRlbnNlZC5vdGY=.png', u'./notMNIST_small/test/A/RWxkb3JhZG9EaXNwbGF5LUl0YWxpYy5vdGY=.png', u'./notMNIST_small/test/A/QnJvdGhlcnNTdXBlclNsYW50Lm90Zg==.png', u'./notMNIST_small/test/A/QXVndXN0YVNjaG51cmtsU3RkLVJlZy5vdGY=.png', u'./notMNIST_small/test/A/Rm9yZWxsZS50dGY=.png', u'./notMNIST_small/test/A/Q2l0eS1MaWdodC5vdGY=.png', u'./notMNIST_small/test/A/Q2FyZ28gVHdvIFNGLnR0Zg==.png', u'./notMNIST_small/test/A/RFRMRG9jdW1lbnRhVC1JdGFsaWMub3Rm.png', u'./notMNIST_small/test/A/Q29tbWVyY2UgQmxhY2sgU1NpIEJvbGQudHRm.png', u'./notMNIST_small/test/A/QmxhY2thZGRlciBJVEMgVFQudHRm.png', u'./notMNIST_small/test/A/OTExIFBvcnNjaGEgSXRhbGljLnR0Zg==.png', u'./notMNIST_small/test/A/R2lsbFNhbnNNVFN0ZC1IZWF2eS5vdGY=.png', u'./notMNIST_small/test/A/QXN0aWdtYSBSZWd1bGFyLnR0Zg==.png', u'./notMNIST_small/test/A/R2xvcmlldHRhLm90Zg==.png', u'./notMNIST_small/test/A/Qm9kb25pQkUtTWVkaXVtQ24ub3Rm.png', u'./notMNIST_small/test/A/QXJrb25hIFJlZ3VsYXIucGZi.png', u'./notMNIST_small/test/A/QmVhdG5pa0hheXNlZWQudHRm.png', u'./notMNIST_small/test/A/QnJpZW1TY3JpcHRTdGQtQm9sZC5vdGY=.png', u'./notMNIST_small/test/A/RGVzdHJ1Y3RvQmVhbSBCQi50dGY=.png', u'./notMNIST_small/test/A/RmVuaWNlLVVsdHJhT2JsaXF1ZS5vdGY=.png', u'./notMNIST_small/test/A/RXVyb1RlY2huaWNPdXRsaW5lLm90Zg==.png']\n"
     ]
    },
    {
     "name": "stdout",
     "output_type": "stream",
     "text": [
      "187\n"
     ]
    }
   ],
   "source": [
    "filelist = glob.glob('./notMNIST_small/test/A/*.png')\n",
    "print(filelist[0])\n",
    "images_0 = np.array([np.array(Image.open(fname)) for fname in filelist])\n",
    "filelist = glob.glob('./notMNIST_small/test/B/*.png')\n",
    "images_1 = np.array([np.array(Image.open(fname)) for fname in filelist])\n",
    "filelist = glob.glob('./notMNIST_small/test/C/*.png')\n",
    "images_2 = np.array([np.array(Image.open(fname)) for fname in filelist])\n",
    "filelist = glob.glob('./notMNIST_small/test/D/*.png')\n",
    "images_3 = np.array([np.array(Image.open(fname)) for fname in filelist])\n",
    "filelist = glob.glob('./notMNIST_small/test/E/*.png')\n",
    "images_4 = np.array([np.array(Image.open(fname)) for fname in filelist])\n",
    "filelist = glob.glob('./notMNIST_small/test/F/*.png')\n",
    "images_5 = np.array([np.array(Image.open(fname)) for fname in filelist])\n",
    "filelist = glob.glob('./notMNIST_small/test/G/*.png')\n",
    "images_6 = np.array([np.array(Image.open(fname)) for fname in filelist])\n",
    "filelist = glob.glob('./notMNIST_small/test/H/*.png')\n",
    "images_7 = np.array([np.array(Image.open(fname)) for fname in filelist])\n",
    "filelist = glob.glob('./notMNIST_small/test/I/*.png')\n",
    "images_8 = np.array([np.array(Image.open(fname)) for fname in filelist])\n",
    "filelist = glob.glob('./notMNIST_small/test/J/*.png')\n",
    "images_9 = np.array([np.array(Image.open(fname)) for fname in filelist])\n",
    "\n",
    "images = np.vstack((images_0, images_1, images_2, images_3, images_4, images_5, images_6, images_7, images_8, images_9))\n",
    "print(images_0.shape[0])"
   ]
  },
  {
   "cell_type": "code",
   "execution_count": 56,
   "metadata": {
    "collapsed": true
   },
   "outputs": [],
   "source": [
    "cat = np.zeros((images.shape[0],1))\n",
    "test = np.zeros((images_0.shape[0],1))\n",
    "cat[0:images_0.shape[0],:] = test"
   ]
  },
  {
   "cell_type": "code",
   "execution_count": 57,
   "metadata": {
    "collapsed": true
   },
   "outputs": [],
   "source": [
    "test = np.ones((images_1.shape[0],1))\n",
    "cat[images_0.shape[0]:images_0.shape[0]+images_1.shape[0],:] = test"
   ]
  },
  {
   "cell_type": "code",
   "execution_count": 58,
   "metadata": {
    "collapsed": true
   },
   "outputs": [],
   "source": [
    "test = np.ones((images_2.shape[0],1))*2\n",
    "cat[images_0.shape[0]+images_1.shape[0]:images_0.shape[0]+images_1.shape[0]+images_2.shape[0],:] = test"
   ]
  },
  {
   "cell_type": "code",
   "execution_count": 59,
   "metadata": {
    "collapsed": true
   },
   "outputs": [],
   "source": [
    "test = np.ones((images_3.shape[0],1))*3\n",
    "cat[images_0.shape[0]+images_1.shape[0]+images_2.shape[0]:images_0.shape[0]+images_1.shape[0]+images_2.shape[0]+images_3.shape[0],:] = test"
   ]
  },
  {
   "cell_type": "code",
   "execution_count": 60,
   "metadata": {
    "collapsed": true
   },
   "outputs": [],
   "source": [
    "test = np.ones((images_4.shape[0],1))*4\n",
    "cat[images_0.shape[0]+images_1.shape[0]+images_2.shape[0]+images_3.shape[0]:images_0.shape[0]+images_1.shape[0]+images_2.shape[0]+images_3.shape[0]+images_4.shape[0],:] = test"
   ]
  },
  {
   "cell_type": "code",
   "execution_count": 61,
   "metadata": {
    "collapsed": true
   },
   "outputs": [],
   "source": [
    "test = np.ones((images_5.shape[0],1))*5\n",
    "cat[images_0.shape[0]+images_1.shape[0]+images_2.shape[0]+images_3.shape[0]+images_4.shape[0]:images_0.shape[0]+images_1.shape[0]+images_2.shape[0]+images_3.shape[0]+images_4.shape[0]+images_5.shape[0],:] = test"
   ]
  },
  {
   "cell_type": "code",
   "execution_count": 62,
   "metadata": {
    "collapsed": true
   },
   "outputs": [],
   "source": [
    "test = np.ones((images_6.shape[0],1))*6\n",
    "cat[images_0.shape[0]+images_1.shape[0]+images_2.shape[0]+images_3.shape[0]+images_4.shape[0]+images_5.shape[0]:images_0.shape[0]+images_1.shape[0]+images_2.shape[0]+images_3.shape[0]+images_4.shape[0]+images_5.shape[0]+images_6.shape[0],:] = test"
   ]
  },
  {
   "cell_type": "code",
   "execution_count": 63,
   "metadata": {
    "collapsed": true
   },
   "outputs": [],
   "source": [
    "test = np.ones((images_7.shape[0],1))*7\n",
    "cat[images_0.shape[0]+images_1.shape[0]+images_2.shape[0]+images_3.shape[0]+images_4.shape[0]+images_5.shape[0]+images_6.shape[0]:images_0.shape[0]+images_1.shape[0]+images_2.shape[0]+images_3.shape[0]+images_4.shape[0]+images_5.shape[0]+images_6.shape[0]+images_7.shape[0],:] = test"
   ]
  },
  {
   "cell_type": "code",
   "execution_count": 64,
   "metadata": {
    "collapsed": true
   },
   "outputs": [],
   "source": [
    "test = np.ones((images_8.shape[0],1))*8\n",
    "cat[images_0.shape[0]+images_1.shape[0]+images_2.shape[0]+images_3.shape[0]+images_4.shape[0]+images_5.shape[0]+images_6.shape[0]+images_7.shape[0]:images_0.shape[0]+images_1.shape[0]+images_2.shape[0]+images_3.shape[0]+images_4.shape[0]+images_5.shape[0]+images_6.shape[0]+images_7.shape[0]+images_8.shape[0],:] = test"
   ]
  },
  {
   "cell_type": "code",
   "execution_count": 65,
   "metadata": {
    "collapsed": true
   },
   "outputs": [],
   "source": [
    "test = np.ones((images_9.shape[0],1))*9\n",
    "cat[images_0.shape[0]+images_1.shape[0]+images_2.shape[0]+images_3.shape[0]+images_4.shape[0]+images_5.shape[0]+images_6.shape[0]+images_7.shape[0]+images_8.shape[0]:images_0.shape[0]+images_1.shape[0]+images_2.shape[0]+images_3.shape[0]+images_4.shape[0]+images_5.shape[0]+images_6.shape[0]+images_7.shape[0]+images_8.shape[0]+images_9.shape[0],:] = test"
   ]
  },
  {
   "cell_type": "code",
   "execution_count": 66,
   "metadata": {},
   "outputs": [
    {
     "name": "stdout",
     "output_type": "stream",
     "text": [
      "[[ 0.]\n",
      " [ 0.]\n",
      " [ 0.]\n",
      " ..., \n",
      " [ 9.]\n",
      " [ 9.]\n",
      " [ 9.]]\n"
     ]
    }
   ],
   "source": [
    "print(cat)"
   ]
  },
  {
   "cell_type": "code",
   "execution_count": 55,
   "metadata": {},
   "outputs": [
    {
     "name": "stdout",
     "output_type": "stream",
     "text": [
      "2\n"
     ]
    }
   ],
   "source": [
    "if 1 == 1:\n",
    "    w=2\n",
    "    \n",
    "print(w)"
   ]
  },
  {
   "cell_type": "code",
   "execution_count": null,
   "metadata": {
    "collapsed": true
   },
   "outputs": [],
   "source": []
  }
 ],
 "metadata": {
  "kernelspec": {
   "display_name": "Python 2",
   "language": "python",
   "name": "python2"
  },
  "language_info": {
   "codemirror_mode": {
    "name": "ipython",
    "version": 2
   },
   "file_extension": ".py",
   "mimetype": "text/x-python",
   "name": "python",
   "nbconvert_exporter": "python",
   "pygments_lexer": "ipython2",
   "version": "2.7.6"
  }
 },
 "nbformat": 4,
 "nbformat_minor": 2
}
