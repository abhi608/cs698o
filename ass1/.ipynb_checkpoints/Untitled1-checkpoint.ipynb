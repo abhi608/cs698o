{
 "cells": [
  {
   "cell_type": "code",
   "execution_count": 3,
   "metadata": {
    "collapsed": true
   },
   "outputs": [],
   "source": [
    "from __future__ import division, print_function, unicode_literals\n",
    "import numpy as np\n",
    "import torch\n",
    "import torch.utils.data\n",
    "import torchvision.models as models\n",
    "import torchvision.transforms as transforms\n",
    "import glob\n",
    "from scipy import misc\n",
    "from PIL import Image\n",
    "\n",
    "%matplotlib inline\n",
    "import matplotlib.pyplot as plt"
   ]
  },
  {
   "cell_type": "code",
   "execution_count": 4,
   "metadata": {},
   "outputs": [],
   "source": [
    "filelist = glob.glob('./notMNIST_small/test/A/*.png')\n",
    "images_0 = np.array([np.array(Image.open(fname)) for fname in filelist])\n",
    "filelist = glob.glob('./notMNIST_small/test/B/*.png')\n",
    "images_1 = np.array([np.array(Image.open(fname)) for fname in filelist])\n",
    "filelist = glob.glob('./notMNIST_small/test/C/*.png')\n",
    "images_2 = np.array([np.array(Image.open(fname)) for fname in filelist])\n",
    "filelist = glob.glob('./notMNIST_small/test/D/*.png')\n",
    "images_3 = np.array([np.array(Image.open(fname)) for fname in filelist])\n",
    "filelist = glob.glob('./notMNIST_small/test/E/*.png')\n",
    "images_4 = np.array([np.array(Image.open(fname)) for fname in filelist])\n",
    "filelist = glob.glob('./notMNIST_small/test/F/*.png')\n",
    "images_5 = np.array([np.array(Image.open(fname)) for fname in filelist])\n",
    "filelist = glob.glob('./notMNIST_small/test/G/*.png')\n",
    "images_6 = np.array([np.array(Image.open(fname)) for fname in filelist])\n",
    "filelist = glob.glob('./notMNIST_small/test/H/*.png')\n",
    "images_7 = np.array([np.array(Image.open(fname)) for fname in filelist])\n",
    "filelist = glob.glob('./notMNIST_small/test/I/*.png')\n",
    "images_8 = np.array([np.array(Image.open(fname)) for fname in filelist])\n",
    "filelist = glob.glob('./notMNIST_small/test/J/*.png')\n",
    "images_9 = np.array([np.array(Image.open(fname)) for fname in filelist])\n",
    "\n",
    "images = np.vstack((images_0, images_1, images_2, images_3, images_4, images_5, images_6, images_7, images_8, images_9))"
   ]
  },
  {
   "cell_type": "code",
   "execution_count": null,
   "metadata": {
    "collapsed": true
   },
   "outputs": [],
   "source": []
  }
 ],
 "metadata": {
  "kernelspec": {
   "display_name": "Python 2",
   "language": "python",
   "name": "python2"
  },
  "language_info": {
   "codemirror_mode": {
    "name": "ipython",
    "version": 2
   },
   "file_extension": ".py",
   "mimetype": "text/x-python",
   "name": "python",
   "nbconvert_exporter": "python",
   "pygments_lexer": "ipython2",
   "version": "2.7.6"
  }
 },
 "nbformat": 4,
 "nbformat_minor": 2
}
