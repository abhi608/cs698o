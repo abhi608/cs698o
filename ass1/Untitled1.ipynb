{
 "cells": [
  {
   "cell_type": "code",
   "execution_count": 3,
   "metadata": {
    "collapsed": true
   },
   "outputs": [],
   "source": [
    "from __future__ import division, print_function, unicode_literals\n",
    "import numpy as np\n",
    "import torch\n",
    "import torch.utils.data\n",
    "import torchvision.models as models\n",
    "import torchvision.transforms as transforms\n",
    "import glob\n",
    "from scipy import misc\n",
    "from PIL import Image\n",
    "\n",
    "%matplotlib inline\n",
    "import matplotlib.pyplot as plt"
   ]
  },
  {
   "cell_type": "code",
   "execution_count": 8,
   "metadata": {},
   "outputs": [
    {
     "name": "stdout",
     "output_type": "stream",
     "text": [
      "187\n"
     ]
    }
   ],
   "source": [
    "filelist = glob.glob('./notMNIST_small/test/A/*.png')\n",
    "images_0 = np.array([np.array(Image.open(fname)) for fname in filelist])\n",
    "filelist = glob.glob('./notMNIST_small/test/B/*.png')\n",
    "images_1 = np.array([np.array(Image.open(fname)) for fname in filelist])\n",
    "filelist = glob.glob('./notMNIST_small/test/C/*.png')\n",
    "images_2 = np.array([np.array(Image.open(fname)) for fname in filelist])\n",
    "filelist = glob.glob('./notMNIST_small/test/D/*.png')\n",
    "images_3 = np.array([np.array(Image.open(fname)) for fname in filelist])\n",
    "filelist = glob.glob('./notMNIST_small/test/E/*.png')\n",
    "images_4 = np.array([np.array(Image.open(fname)) for fname in filelist])\n",
    "filelist = glob.glob('./notMNIST_small/test/F/*.png')\n",
    "images_5 = np.array([np.array(Image.open(fname)) for fname in filelist])\n",
    "filelist = glob.glob('./notMNIST_small/test/G/*.png')\n",
    "images_6 = np.array([np.array(Image.open(fname)) for fname in filelist])\n",
    "filelist = glob.glob('./notMNIST_small/test/H/*.png')\n",
    "images_7 = np.array([np.array(Image.open(fname)) for fname in filelist])\n",
    "filelist = glob.glob('./notMNIST_small/test/I/*.png')\n",
    "images_8 = np.array([np.array(Image.open(fname)) for fname in filelist])\n",
    "filelist = glob.glob('./notMNIST_small/test/J/*.png')\n",
    "images_9 = np.array([np.array(Image.open(fname)) for fname in filelist])\n",
    "\n",
    "images = np.vstack((images_0, images_1, images_2, images_3, images_4, images_5, images_6, images_7, images_8, images_9))\n",
    "print(images_0.shape[0])"
   ]
  },
  {
   "cell_type": "code",
   "execution_count": 56,
   "metadata": {},
   "outputs": [],
   "source": [
    "cat = np.zeros((images.shape[0],1))\n",
    "test = np.zeros((images_0.shape[0],1))\n",
    "cat[0:images_0.shape[0],:] = test"
   ]
  },
  {
   "cell_type": "code",
   "execution_count": 57,
   "metadata": {
    "collapsed": true
   },
   "outputs": [],
   "source": [
    "test = np.ones((images_1.shape[0],1))\n",
    "cat[images_0.shape[0]:images_0.shape[0]+images_1.shape[0],:] = test"
   ]
  },
  {
   "cell_type": "code",
   "execution_count": 58,
   "metadata": {
    "collapsed": true
   },
   "outputs": [],
   "source": [
    "test = np.ones((images_2.shape[0],1))*2\n",
    "cat[images_0.shape[0]+images_1.shape[0]:images_0.shape[0]+images_1.shape[0]+images_2.shape[0],:] = test"
   ]
  },
  {
   "cell_type": "code",
   "execution_count": 59,
   "metadata": {
    "collapsed": true
   },
   "outputs": [],
   "source": [
    "test = np.ones((images_3.shape[0],1))*3\n",
    "cat[images_0.shape[0]+images_1.shape[0]+images_2.shape[0]:images_0.shape[0]+images_1.shape[0]+images_2.shape[0]+images_3.shape[0],:] = test"
   ]
  },
  {
   "cell_type": "code",
   "execution_count": 60,
   "metadata": {
    "collapsed": true
   },
   "outputs": [],
   "source": [
    "test = np.ones((images_4.shape[0],1))*4\n",
    "cat[images_0.shape[0]+images_1.shape[0]+images_2.shape[0]+images_3.shape[0]:images_0.shape[0]+images_1.shape[0]+images_2.shape[0]+images_3.shape[0]+images_4.shape[0],:] = test"
   ]
  },
  {
   "cell_type": "code",
   "execution_count": 61,
   "metadata": {
    "collapsed": true
   },
   "outputs": [],
   "source": [
    "test = np.ones((images_5.shape[0],1))*5\n",
    "cat[images_0.shape[0]+images_1.shape[0]+images_2.shape[0]+images_3.shape[0]+images_4.shape[0]:images_0.shape[0]+images_1.shape[0]+images_2.shape[0]+images_3.shape[0]+images_4.shape[0]+images_5.shape[0],:] = test"
   ]
  },
  {
   "cell_type": "code",
   "execution_count": 62,
   "metadata": {
    "collapsed": true
   },
   "outputs": [],
   "source": [
    "test = np.ones((images_6.shape[0],1))*6\n",
    "cat[images_0.shape[0]+images_1.shape[0]+images_2.shape[0]+images_3.shape[0]+images_4.shape[0]+images_5.shape[0]:images_0.shape[0]+images_1.shape[0]+images_2.shape[0]+images_3.shape[0]+images_4.shape[0]+images_5.shape[0]+images_6.shape[0],:] = test"
   ]
  },
  {
   "cell_type": "code",
   "execution_count": 63,
   "metadata": {
    "collapsed": true
   },
   "outputs": [],
   "source": [
    "test = np.ones((images_7.shape[0],1))*7\n",
    "cat[images_0.shape[0]+images_1.shape[0]+images_2.shape[0]+images_3.shape[0]+images_4.shape[0]+images_5.shape[0]+images_6.shape[0]:images_0.shape[0]+images_1.shape[0]+images_2.shape[0]+images_3.shape[0]+images_4.shape[0]+images_5.shape[0]+images_6.shape[0]+images_7.shape[0],:] = test"
   ]
  },
  {
   "cell_type": "code",
   "execution_count": 64,
   "metadata": {
    "collapsed": true
   },
   "outputs": [],
   "source": [
    "test = np.ones((images_8.shape[0],1))*8\n",
    "cat[images_0.shape[0]+images_1.shape[0]+images_2.shape[0]+images_3.shape[0]+images_4.shape[0]+images_5.shape[0]+images_6.shape[0]+images_7.shape[0]:images_0.shape[0]+images_1.shape[0]+images_2.shape[0]+images_3.shape[0]+images_4.shape[0]+images_5.shape[0]+images_6.shape[0]+images_7.shape[0]+images_8.shape[0],:] = test"
   ]
  },
  {
   "cell_type": "code",
   "execution_count": 65,
   "metadata": {
    "collapsed": true
   },
   "outputs": [],
   "source": [
    "test = np.ones((images_9.shape[0],1))*9\n",
    "cat[images_0.shape[0]+images_1.shape[0]+images_2.shape[0]+images_3.shape[0]+images_4.shape[0]+images_5.shape[0]+images_6.shape[0]+images_7.shape[0]+images_8.shape[0]:images_0.shape[0]+images_1.shape[0]+images_2.shape[0]+images_3.shape[0]+images_4.shape[0]+images_5.shape[0]+images_6.shape[0]+images_7.shape[0]+images_8.shape[0]+images_9.shape[0],:] = test"
   ]
  },
  {
   "cell_type": "code",
   "execution_count": 66,
   "metadata": {},
   "outputs": [
    {
     "name": "stdout",
     "output_type": "stream",
     "text": [
      "[[ 0.]\n",
      " [ 0.]\n",
      " [ 0.]\n",
      " ..., \n",
      " [ 9.]\n",
      " [ 9.]\n",
      " [ 9.]]\n"
     ]
    }
   ],
   "source": [
    "print(cat)"
   ]
  },
  {
   "cell_type": "code",
   "execution_count": 55,
   "metadata": {},
   "outputs": [
    {
     "name": "stdout",
     "output_type": "stream",
     "text": [
      "2\n"
     ]
    }
   ],
   "source": [
    "if 1 == 1:\n",
    "    w=2\n",
    "    \n",
    "print(w)"
   ]
  },
  {
   "cell_type": "code",
   "execution_count": null,
   "metadata": {
    "collapsed": true
   },
   "outputs": [],
   "source": []
  }
 ],
 "metadata": {
  "kernelspec": {
   "display_name": "Python 2",
   "language": "python",
   "name": "python2"
  },
  "language_info": {
   "codemirror_mode": {
    "name": "ipython",
    "version": 2
   },
   "file_extension": ".py",
   "mimetype": "text/x-python",
   "name": "python",
   "nbconvert_exporter": "python",
   "pygments_lexer": "ipython2",
   "version": "2.7.6"
  }
 },
 "nbformat": 4,
 "nbformat_minor": 2
}
