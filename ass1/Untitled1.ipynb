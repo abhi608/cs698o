{
 "cells": [
  {
   "cell_type": "code",
   "execution_count": 3,
   "metadata": {
    "collapsed": true
   },
   "outputs": [],
   "source": [
    "from __future__ import division, print_function, unicode_literals\n",
    "import numpy as np\n",
    "import torch\n",
    "import torch.utils.data\n",
    "import torchvision.models as models\n",
    "import torchvision.transforms as transforms\n",
    "import glob\n",
    "from scipy import misc\n",
    "from PIL import Image\n",
    "\n",
    "%matplotlib inline\n",
    "import matplotlib.pyplot as plt"
   ]
  },
  {
   "cell_type": "code",
   "execution_count": 76,
   "metadata": {},
   "outputs": [
    {
     "name": "stdout",
     "output_type": "stream",
     "text": [
      "<type 'instance'>\n",
      "(28, 28)\n",
      "(28, 28)\n",
      "[[  0   0   0   0   0   0   1   0  13 154 236 255 253 254 255 229  18   0\n",
      "    1   0   0   0   0   0   0   0   0   0]\n",
      " [  0   0   0   0   0   0   0   0   1   0  30 196 255 252 252 255 104   0\n",
      "    3   0   0   0   0   0   0   0   0   0]\n",
      " [  0   0   0   0   0   0   0   0   0   3   0  29 232 255 251 255 207   4\n",
      "    0   1   0   0   0   0   0   0   0   0]\n",
      " [  0   0   0   0   0   0   0   0   0   0   5   0 129 255 252 253 255  80\n",
      "    0   3   0   0   0   0   0   0   0   0]\n",
      " [  0   0   0   0   0   0   0   0   0   0   2   0  67 255 254 252 255 184\n",
      "    0   1   0   0   0   0   0   0   0   0]\n",
      " [  0   0   0   0   0   0   0   0   0   0   3   0 142 255 252 255 255 255\n",
      "   56   0   2   0   0   0   0   0   0   0]\n",
      " [  0   0   0   0   0   0   0   0   0   1   0  21 231 255 250 255 252 255\n",
      "  159   0   3   0   0   0   0   0   0   0]\n",
      " [  0   0   0   0   0   0   0   0   0   4   0 106 255 252 255 254 254 255\n",
      "  243  35   0   2   0   0   0   0   0   0]\n",
      " [  0   0   0   0   0   0   0   0   0   0   0 206 255 136 171 255 254 251\n",
      "  255 133   0   4   0   0   0   0   0   0]\n",
      " [  0   0   0   0   0   0   0   0   3   0  68 255 105   0   0 175 255 251\n",
      "  255 227  18   0   1   0   0   0   0   0]\n",
      " [  0   0   0   0   0   0   0   0   2   0 179 225   3   5   0  65 255 254\n",
      "  251 255 106   0   4   0   0   0   0   0]\n",
      " [  0   0   0   0   0   0   0   2   0  38 255 109   0   4   1   0 193 255\n",
      "  250 255 208   5   0   1   0   0   0   0]\n",
      " [  0   0   0   0   0   0   0   4   0 146 240  12   0   1   3   0  91 255\n",
      "  252 253 255  81   0   3   0   0   0   0]\n",
      " [  0   0   0   0   0   0   1   0  16 245 131   0   4   0   1   0  10 215\n",
      "  255 250 255 185   0   1   0   0   0   0]\n",
      " [  0   0   0   0   0   0   4   0 112 251  26   0   2   0   0   3   0 118\n",
      "  255 252 255 255  57   0   2   0   0   0]\n",
      " [  0   0   0   0   0   1   0   0 222 156   0   3   0   0   0   1   0  26\n",
      "  233 255 251 255 160   0   3   0   0   0]\n",
      " [  0   0   0   0   0   3   0  81 255  45   0   2   0   0   0   0   3   0\n",
      "  144 255 251 255 243  36   0   2   0   0]\n",
      " [  0   0   0   0   0   1   0 200 185   0   2   0   0   0   4   5   7   0\n",
      "   48 249 255 251 255 134   0   4   0   0]\n",
      " [  0   0   0   0   3   0  59 255  69   0   3   0   0   1   0   0   0   2\n",
      "    0 161 255 250 255 228  19   0   1   0]\n",
      " [  0   0   0   0   3   0 177 210   0   0   1   0   0   5 104 125 120 123\n",
      "  113 167 255 253 252 255 108   0   3   0]\n",
      " [  0   0   0   2   0  39 255  95   0   3   0   3   0  76 255 253 255 255\n",
      "  255 255 255 254 253 255 209   5   0   1]\n",
      " [  0   0   0   3   0 152 232   8   0   1   0   1   0  31  57  50  51  51\n",
      "   53  43 114 255 254 253 255  82   0   3]\n",
      " [  0   0   1   0  22 249 124   0   3   0   0   0   0   0   0   0   0   0\n",
      "    1   0   5 208 255 250 255 187   0   1]\n",
      " [  0   0   4   0 128 248  24   0   2   0   0   0   0   1   3   3   3   3\n",
      "    3   6   0 106 255 252 254 255  58   0]\n",
      " [  0   3   0  26 244 200   0   5   0   0   0   0   0   0   0   0   0   0\n",
      "    0   3   0  33 240 255 251 255 159   0]\n",
      " [  1   0   0 170 255 240  46   0   2   1   0   0   0   0   0   0   0   1\n",
      "    0   3   0  71 255 254 253 255 240  38]\n",
      " [  0  28 176 255 252 255 223  80   6   0   0   0   0   0   0   0   0   1\n",
      "    0  22 108 238 255 254 255 253 255 148]\n",
      " [138 219 252 234 237 235 244 246 190  93   0   2   0   0   0   2   0  76\n",
      "  162 210 253 241 235 237 237 236 239 223]]\n"
     ]
    }
   ],
   "source": [
    "filelist = glob.glob('./notMNIST_small/test/A/*.png')\n",
    "print(type(Image.open(filelist[0])))\n",
    "images_0 = np.array([np.array(Image.open(fname)) for fname in filelist])\n",
    "filelist = glob.glob('./notMNIST_small/test/B/*.png')\n",
    "images_1 = np.array([np.array(Image.open(fname)) for fname in filelist])\n",
    "filelist = glob.glob('./notMNIST_small/test/C/*.png')\n",
    "images_2 = np.array([np.array(Image.open(fname)) for fname in filelist])\n",
    "filelist = glob.glob('./notMNIST_small/test/D/*.png')\n",
    "images_3 = np.array([np.array(Image.open(fname)) for fname in filelist])\n",
    "filelist = glob.glob('./notMNIST_small/test/E/*.png')\n",
    "images_4 = np.array([np.array(Image.open(fname)) for fname in filelist])\n",
    "filelist = glob.glob('./notMNIST_small/test/F/*.png')\n",
    "images_5 = np.array([np.array(Image.open(fname)) for fname in filelist])\n",
    "filelist = glob.glob('./notMNIST_small/test/G/*.png')\n",
    "images_6 = np.array([np.array(Image.open(fname)) for fname in filelist])\n",
    "filelist = glob.glob('./notMNIST_small/test/H/*.png')\n",
    "images_7 = np.array([np.array(Image.open(fname)) for fname in filelist])\n",
    "filelist = glob.glob('./notMNIST_small/test/I/*.png')\n",
    "images_8 = np.array([np.array(Image.open(fname)) for fname in filelist])\n",
    "filelist = glob.glob('./notMNIST_small/test/J/*.png')\n",
    "images_9 = np.array([np.array(Image.open(fname)) for fname in filelist])\n",
    "\n",
    "images = np.vstack((images_0, images_1, images_2, images_3, images_4, images_5, images_6, images_7, images_8, images_9))\n",
    "print(images_0[0].shape)\n",
    "images_0[0].shape = (28, 28, 1)\n",
    "print(images_0[0].shape)\n",
    "print(images_0[0])"
   ]
  },
  {
   "cell_type": "code",
   "execution_count": 56,
   "metadata": {
    "collapsed": true
   },
   "outputs": [],
   "source": [
    "cat = np.zeros((images.shape[0],1))\n",
    "test = np.zeros((images_0.shape[0],1))\n",
    "cat[0:images_0.shape[0],:] = test"
   ]
  },
  {
   "cell_type": "code",
   "execution_count": 57,
   "metadata": {
    "collapsed": true
   },
   "outputs": [],
   "source": [
    "test = np.ones((images_1.shape[0],1))\n",
    "cat[images_0.shape[0]:images_0.shape[0]+images_1.shape[0],:] = test"
   ]
  },
  {
   "cell_type": "code",
   "execution_count": 58,
   "metadata": {
    "collapsed": true
   },
   "outputs": [],
   "source": [
    "test = np.ones((images_2.shape[0],1))*2\n",
    "cat[images_0.shape[0]+images_1.shape[0]:images_0.shape[0]+images_1.shape[0]+images_2.shape[0],:] = test"
   ]
  },
  {
   "cell_type": "code",
   "execution_count": 59,
   "metadata": {
    "collapsed": true
   },
   "outputs": [],
   "source": [
    "test = np.ones((images_3.shape[0],1))*3\n",
    "cat[images_0.shape[0]+images_1.shape[0]+images_2.shape[0]:images_0.shape[0]+images_1.shape[0]+images_2.shape[0]+images_3.shape[0],:] = test"
   ]
  },
  {
   "cell_type": "code",
   "execution_count": 60,
   "metadata": {
    "collapsed": true
   },
   "outputs": [],
   "source": [
    "test = np.ones((images_4.shape[0],1))*4\n",
    "cat[images_0.shape[0]+images_1.shape[0]+images_2.shape[0]+images_3.shape[0]:images_0.shape[0]+images_1.shape[0]+images_2.shape[0]+images_3.shape[0]+images_4.shape[0],:] = test"
   ]
  },
  {
   "cell_type": "code",
   "execution_count": 61,
   "metadata": {
    "collapsed": true
   },
   "outputs": [],
   "source": [
    "test = np.ones((images_5.shape[0],1))*5\n",
    "cat[images_0.shape[0]+images_1.shape[0]+images_2.shape[0]+images_3.shape[0]+images_4.shape[0]:images_0.shape[0]+images_1.shape[0]+images_2.shape[0]+images_3.shape[0]+images_4.shape[0]+images_5.shape[0],:] = test"
   ]
  },
  {
   "cell_type": "code",
   "execution_count": 62,
   "metadata": {
    "collapsed": true
   },
   "outputs": [],
   "source": [
    "test = np.ones((images_6.shape[0],1))*6\n",
    "cat[images_0.shape[0]+images_1.shape[0]+images_2.shape[0]+images_3.shape[0]+images_4.shape[0]+images_5.shape[0]:images_0.shape[0]+images_1.shape[0]+images_2.shape[0]+images_3.shape[0]+images_4.shape[0]+images_5.shape[0]+images_6.shape[0],:] = test"
   ]
  },
  {
   "cell_type": "code",
   "execution_count": 63,
   "metadata": {
    "collapsed": true
   },
   "outputs": [],
   "source": [
    "test = np.ones((images_7.shape[0],1))*7\n",
    "cat[images_0.shape[0]+images_1.shape[0]+images_2.shape[0]+images_3.shape[0]+images_4.shape[0]+images_5.shape[0]+images_6.shape[0]:images_0.shape[0]+images_1.shape[0]+images_2.shape[0]+images_3.shape[0]+images_4.shape[0]+images_5.shape[0]+images_6.shape[0]+images_7.shape[0],:] = test"
   ]
  },
  {
   "cell_type": "code",
   "execution_count": 64,
   "metadata": {
    "collapsed": true
   },
   "outputs": [],
   "source": [
    "test = np.ones((images_8.shape[0],1))*8\n",
    "cat[images_0.shape[0]+images_1.shape[0]+images_2.shape[0]+images_3.shape[0]+images_4.shape[0]+images_5.shape[0]+images_6.shape[0]+images_7.shape[0]:images_0.shape[0]+images_1.shape[0]+images_2.shape[0]+images_3.shape[0]+images_4.shape[0]+images_5.shape[0]+images_6.shape[0]+images_7.shape[0]+images_8.shape[0],:] = test"
   ]
  },
  {
   "cell_type": "code",
   "execution_count": 65,
   "metadata": {
    "collapsed": true
   },
   "outputs": [],
   "source": [
    "test = np.ones((images_9.shape[0],1))*9\n",
    "cat[images_0.shape[0]+images_1.shape[0]+images_2.shape[0]+images_3.shape[0]+images_4.shape[0]+images_5.shape[0]+images_6.shape[0]+images_7.shape[0]+images_8.shape[0]:images_0.shape[0]+images_1.shape[0]+images_2.shape[0]+images_3.shape[0]+images_4.shape[0]+images_5.shape[0]+images_6.shape[0]+images_7.shape[0]+images_8.shape[0]+images_9.shape[0],:] = test"
   ]
  },
  {
   "cell_type": "code",
   "execution_count": 66,
   "metadata": {},
   "outputs": [
    {
     "name": "stdout",
     "output_type": "stream",
     "text": [
      "[[ 0.]\n",
      " [ 0.]\n",
      " [ 0.]\n",
      " ..., \n",
      " [ 9.]\n",
      " [ 9.]\n",
      " [ 9.]]\n"
     ]
    }
   ],
   "source": [
    "print(cat)"
   ]
  },
  {
   "cell_type": "code",
   "execution_count": 55,
   "metadata": {},
   "outputs": [
    {
     "name": "stdout",
     "output_type": "stream",
     "text": [
      "2\n"
     ]
    }
   ],
   "source": [
    "if 1 == 1:\n",
    "    w=2\n",
    "    \n",
    "print(w)"
   ]
  },
  {
   "cell_type": "code",
   "execution_count": null,
   "metadata": {
    "collapsed": true
   },
   "outputs": [],
   "source": []
  }
 ],
 "metadata": {
  "kernelspec": {
   "display_name": "Python 2",
   "language": "python",
   "name": "python2"
  },
  "language_info": {
   "codemirror_mode": {
    "name": "ipython",
    "version": 2
   },
   "file_extension": ".py",
   "mimetype": "text/x-python",
   "name": "python",
   "nbconvert_exporter": "python",
   "pygments_lexer": "ipython2",
   "version": "2.7.6"
  }
 },
 "nbformat": 4,
 "nbformat_minor": 2
}
