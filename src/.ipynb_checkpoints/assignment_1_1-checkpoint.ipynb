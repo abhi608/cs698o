{
 "cells": [
  {
   "cell_type": "markdown",
   "metadata": {},
   "source": [
    "## Creating Custom Datasets and Finetuning Pre-trained Networks\n",
    "In this notebook you have to create custom datasets for PyTorch and use this dataset to finetune certain pre-trained neural networks and observe the results."
   ]
  },
  {
   "cell_type": "code",
<<<<<<< HEAD:ass1/assignment_1_1.ipynb
   "execution_count": 1,
   "metadata": {},
   "outputs": [],
=======
   "execution_count": 5,
   "metadata": {},
   "outputs": [
    {
     "ename": "ImportError",
     "evalue": "No module named torch",
     "output_type": "error",
     "traceback": [
      "\u001b[0;31m---------------------------------------------------------------------------\u001b[0m",
      "\u001b[0;31mImportError\u001b[0m                               Traceback (most recent call last)",
      "\u001b[0;32m<ipython-input-5-f753e0a57dc0>\u001b[0m in \u001b[0;36m<module>\u001b[0;34m()\u001b[0m\n\u001b[1;32m     13\u001b[0m \u001b[0;34m\u001b[0m\u001b[0m\n\u001b[1;32m     14\u001b[0m \u001b[0;32mimport\u001b[0m \u001b[0mnumpy\u001b[0m \u001b[0;32mas\u001b[0m \u001b[0mnp\u001b[0m\u001b[0;34m\u001b[0m\u001b[0m\n\u001b[0;32m---> 15\u001b[0;31m \u001b[0;32mimport\u001b[0m \u001b[0mtorch\u001b[0m\u001b[0;34m\u001b[0m\u001b[0m\n\u001b[0m\u001b[1;32m     16\u001b[0m \u001b[0;32mimport\u001b[0m \u001b[0mtorch\u001b[0m\u001b[0;34m.\u001b[0m\u001b[0mutils\u001b[0m\u001b[0;34m.\u001b[0m\u001b[0mdata\u001b[0m\u001b[0;34m\u001b[0m\u001b[0m\n\u001b[1;32m     17\u001b[0m \u001b[0;32mimport\u001b[0m \u001b[0mtorchvision\u001b[0m\u001b[0;34m\u001b[0m\u001b[0m\n",
      "\u001b[0;31mImportError\u001b[0m: No module named torch"
     ]
    }
   ],
>>>>>>> 6e5b73cc97a3c3a87a26a85b0322b74160f4f601:src/.ipynb_checkpoints/assignment_1_1-checkpoint.ipynb
   "source": [
    "# Import Statements\n",
    "#\n",
    "# Several of the imports you will need have been added but you will need to provide the\n",
    "# rest yourself; you should be able to figure out most of the imports as you go through\n",
    "# the notebook since without proper imports your code will fail to run\n",
    "#\n",
    "# All import statements go in this block\n",
    "                                                                                                                                                                                                                                                                                                                                                                                                                                                                                                                                                                                                                                                                                                                                                                                                                                                                                                                                                                                                                                                                                                                                                                                                                                                                                                                                                                                                                                                                                                                                                                                                                                                                                                                                                                                                                                                                                                                                                                                                                                                                                                                                                                                                                                                                                                                                                                                                                                                                                                                                                                                                                                                                                                                                                                                                                                                                                                                                                                                                                                                                                                                                                                                                                                                                                                                                                                                                                                                                                                                                                                                                                                                                                                                                                                                                                                                                                                                                                                                                                                                                                                                                                                                                                                                                                                                                                                                                                                                                                                                                                                                                                                                                                                                                                                                                                                                                                                                                                                                                                                                                                                                                                                                                                                                                                                                                                                                                                                                                                                                                                                                                                                                                                                                                                                                                                                                                                                                                                                                                                                                                                                                                                                                                                                                                                                                                                                                                                                                                                                                                                                                                                                                                                                                                                                                                                                                                                                                                                                                                                                                                                                                                                                                                                                                                                                                                                                                                                                                                                                                                                                                                                                                                                                                                                                                                                                                                                                                                                                                                                                                                                                                                                                                                                                                                                                                                                                                                                                                                                                                                                                                                                                                                                                                                            \n",
    "from __future__ import division, print_function, unicode_literals\n",
    "import sys\n",
    "sys.path.append('/home/tulsyan/apps/miniconda3/lib/python3.6/site-packages/')\n",
    "sys.path.append('/home/tulsyan/apps/miniconda3/lib/python3.6/site-packages/torchvision-0.1.9-py3.6.egg')\n",
    "\n",
    "import numpy as np\n",
    "import torch\n",
    "import torch.utils.data\n",
    "import torchvision\n",
    "import torchvision.models as models\n",
    "import torchvision.transforms as transforms\n",
    "from torch.autograd import Variable\n",
    "import glob\n",
    "\n",
    "from scipy import misc\n",
    "from PIL import Image\n",
    "import torch.nn as nn\n",
    "import colormap as cm\n",
    "import cryptography\n",
    "from torchvision.models.vgg import model_urls as md1\n",
    "from torchvision.models.resnet import model_urls as md2\n",
    "\n",
    "%matplotlib inline\n",
    "import matplotlib.pyplot as plt\n",
    "# torch.setdefaulttensortype('torch.FloatTensor')"
   ]
  },
  {
   "cell_type": "markdown",
   "metadata": {},
   "source": [
    "All hyper parameters go in the next block"
   ]
  },
  {
   "cell_type": "code",
   "execution_count": 2,
   "metadata": {},
   "outputs": [],
   "source": [
    "batch_size = 100\n",
    "num_epochs = 5\n",
    "learning_rate = 0.01\n",
<<<<<<< HEAD:ass1/assignment_1_1.ipynb
    "# print(images_0.shape[0])\n",
=======
    "filelist = glob.glob('../dataset/train/A/*.png')\n",
    "images_0 = np.array([np.array(Image.open(fname)) for fname in filelist])\n",
    "print(images_0.shape[0])\n",
>>>>>>> 6e5b73cc97a3c3a87a26a85b0322b74160f4f601:src/.ipynb_checkpoints/assignment_1_1-checkpoint.ipynb
    "\n",
    "# images_0 = np.fromiter((misc.imread(path) for path in glob.glob('./notMNIST_small/train/A/*.png')), np.float)"
   ]
  },
  {
   "cell_type": "markdown",
   "metadata": {},
   "source": [
    "### Creating Custom Datasets\n",
    "Your first task is to create a pipeline for the custom dataset so that you can load it using a dataloader. Download the dataset provided in the assignment webpage and complete the following block of code so that you can load it as if it was a standard dataset."
   ]
  },
  {
   "cell_type": "code",
<<<<<<< HEAD:ass1/assignment_1_1.ipynb
   "execution_count": 3,
   "metadata": {
    "collapsed": true
   },
   "outputs": [],
=======
   "execution_count": 1,
   "metadata": {},
   "outputs": [
    {
     "ename": "NameError",
     "evalue": "name 'torch' is not defined",
     "output_type": "error",
     "traceback": [
      "\u001b[0;31m---------------------------------------------------------------------------\u001b[0m",
      "\u001b[0;31mNameError\u001b[0m                                 Traceback (most recent call last)",
      "\u001b[0;32m<ipython-input-1-58ecd90fbb47>\u001b[0m in \u001b[0;36m<module>\u001b[0;34m()\u001b[0m\n\u001b[0;32m----> 1\u001b[0;31m \u001b[0;32mclass\u001b[0m \u001b[0mCDATA\u001b[0m\u001b[0;34m(\u001b[0m\u001b[0mtorch\u001b[0m\u001b[0;34m.\u001b[0m\u001b[0mutils\u001b[0m\u001b[0;34m.\u001b[0m\u001b[0mdata\u001b[0m\u001b[0;34m.\u001b[0m\u001b[0mDataset\u001b[0m\u001b[0;34m)\u001b[0m\u001b[0;34m:\u001b[0m \u001b[0;31m# Extend PyTorch's Dataset class\u001b[0m\u001b[0;34m\u001b[0m\u001b[0m\n\u001b[0m\u001b[1;32m      2\u001b[0m     \u001b[0;32mdef\u001b[0m \u001b[0m__init__\u001b[0m\u001b[0;34m(\u001b[0m\u001b[0mself\u001b[0m\u001b[0;34m,\u001b[0m \u001b[0mroot_dir\u001b[0m\u001b[0;34m,\u001b[0m \u001b[0mtrain\u001b[0m\u001b[0;34m,\u001b[0m \u001b[0mtransform\u001b[0m\u001b[0;34m=\u001b[0m\u001b[0mNone\u001b[0m\u001b[0;34m)\u001b[0m\u001b[0;34m:\u001b[0m\u001b[0;34m\u001b[0m\u001b[0m\n\u001b[1;32m      3\u001b[0m         \u001b[0;31m# root_dir  - the root directory of the dataset\u001b[0m\u001b[0;34m\u001b[0m\u001b[0;34m\u001b[0m\u001b[0m\n\u001b[1;32m      4\u001b[0m         \u001b[0;31m# train     - a boolean parameter representing whether to return the training set or the test set\u001b[0m\u001b[0;34m\u001b[0m\u001b[0;34m\u001b[0m\u001b[0m\n\u001b[1;32m      5\u001b[0m         \u001b[0;31m# transform - the transforms to be applied on the images before returning them\u001b[0m\u001b[0;34m\u001b[0m\u001b[0;34m\u001b[0m\u001b[0m\n",
      "\u001b[0;31mNameError\u001b[0m: name 'torch' is not defined"
     ]
    }
   ],
>>>>>>> 6e5b73cc97a3c3a87a26a85b0322b74160f4f601:src/.ipynb_checkpoints/assignment_1_1-checkpoint.ipynb
   "source": [
    "class CDATA(torch.utils.data.Dataset): # Extend PyTorch's Dataset class\n",
    "    def __init__(self, root_dir, train, transform=None):\n",
    "        # root_dir  - the root directory of the dataset\n",
    "        # train     - a boolean parameter representing whether to return the training set or the test set\n",
    "        # transform - the transforms to be applied on the images before returning them\n",
    "        #\n",
    "        # In this function store the parameters in instance variables and make a mapping\n",
    "        # from images to labels and keep it as an instance variable. Make sure to check which\n",
    "        # dataset is required; train or test; and create the mapping accordingly.\n",
    "        self.root_dir = root_dir\n",
    "        self.train = train\n",
    "        self.transform = transform\n",
    "        if(self.train):\n",
    "            filelist = glob.glob(root_dir+'train/A/*.png')\n",
    "            images_0 = np.array([np.array(Image.open(fname)) for fname in filelist])\n",
    "            filelist = glob.glob(root_dir+'train/B/*.png')\n",
    "            images_1 = np.array([np.array(Image.open(fname)) for fname in filelist])\n",
    "            filelist = glob.glob(root_dir+'train/C/*.png')\n",
    "            images_2 = np.array([np.array(Image.open(fname)) for fname in filelist])\n",
    "            filelist = glob.glob(root_dir+'train/D/*.png')\n",
    "            images_3 = np.array([np.array(Image.open(fname)) for fname in filelist])\n",
    "            filelist = glob.glob(root_dir+'train/E/*.png')\n",
    "            images_4 = np.array([np.array(Image.open(fname)) for fname in filelist])\n",
    "            filelist = glob.glob(root_dir+'train/F/*.png')\n",
    "            images_5 = np.array([np.array(Image.open(fname)) for fname in filelist])\n",
    "            filelist = glob.glob(root_dir+'train/G/*.png')\n",
    "            images_6 = np.array([np.array(Image.open(fname)) for fname in filelist])\n",
    "            filelist = glob.glob(root_dir+'train/H/*.png')\n",
    "            images_7 = np.array([np.array(Image.open(fname)) for fname in filelist])\n",
    "            filelist = glob.glob(root_dir+'train/I/*.png')\n",
    "            images_8 = np.array([np.array(Image.open(fname)) for fname in filelist])\n",
    "            filelist = glob.glob(root_dir+'train/J/*.png')\n",
    "            images_9 = np.array([np.array(Image.open(fname)) for fname in filelist])\n",
    "        else:\n",
    "            filelist = glob.glob(root_dir+'test/A/*.png')\n",
    "            images_0 = np.array([np.array(Image.open(fname)) for fname in filelist])\n",
    "            filelist = glob.glob(root_dir+'test/B/*.png')\n",
    "            images_1 = np.array([np.array(Image.open(fname)) for fname in filelist])\n",
    "            filelist = glob.glob(root_dir+'test/C/*.png')\n",
    "            images_2 = np.array([np.array(Image.open(fname)) for fname in filelist])\n",
    "            filelist = glob.glob(root_dir+'test/D/*.png')\n",
    "            images_3 = np.array([np.array(Image.open(fname)) for fname in filelist])\n",
    "            filelist = glob.glob(root_dir+'test/E/*.png')\n",
    "            images_4 = np.array([np.array(Image.open(fname)) for fname in filelist])\n",
    "            filelist = glob.glob(root_dir+'test/F/*.png')\n",
    "            images_5 = np.array([np.array(Image.open(fname)) for fname in filelist])\n",
    "            filelist = glob.glob(root_dir+'test/G/*.png')\n",
    "            images_6 = np.array([np.array(Image.open(fname)) for fname in filelist])\n",
    "            filelist = glob.glob(root_dir+'test/H/*.png')\n",
    "            images_7 = np.array([np.array(Image.open(fname)) for fname in filelist])\n",
    "            filelist = glob.glob(root_dir+'test/I/*.png')\n",
    "            images_8 = np.array([np.array(Image.open(fname)) for fname in filelist])\n",
    "            filelist = glob.glob(root_dir+'test/J/*.png')\n",
    "            images_9 = np.array([np.array(Image.open(fname)) for fname in filelist])\n",
    "            \n",
    "        images = np.vstack((images_0, images_1, images_2, images_3, images_4, images_5, images_6, images_7, images_8, images_9))\n",
    "        self.images = images\n",
    "#         print(images.shape)\n",
    "            \n",
    "        cat = np.zeros((images.shape[0]))\n",
    "        test = np.zeros((images_0.shape[0]))\n",
    "        cat[0:images_0.shape[0]] = test\n",
    "        test = np.ones((images_1.shape[0]))\n",
    "        cat[images_0.shape[0]:images_0.shape[0]+images_1.shape[0]] = test\n",
    "        test = np.ones((images_2.shape[0]))*2\n",
    "        cat[images_0.shape[0]+images_1.shape[0]:images_0.shape[0]+images_1.shape[0]+images_2.shape[0]] = test\n",
    "        test = np.ones((images_3.shape[0]))*3\n",
    "        cat[images_0.shape[0]+images_1.shape[0]+images_2.shape[0]:images_0.shape[0]+images_1.shape[0]+images_2.shape[0]+images_3.shape[0]] = test\n",
    "        test = np.ones((images_4.shape[0]))*4\n",
    "        cat[images_0.shape[0]+images_1.shape[0]+images_2.shape[0]+images_3.shape[0]:images_0.shape[0]+images_1.shape[0]+images_2.shape[0]+images_3.shape[0]+images_4.shape[0]] = test\n",
    "        test = np.ones((images_5.shape[0]))*5\n",
    "        cat[images_0.shape[0]+images_1.shape[0]+images_2.shape[0]+images_3.shape[0]+images_4.shape[0]:images_0.shape[0]+images_1.shape[0]+images_2.shape[0]+images_3.shape[0]+images_4.shape[0]+images_5.shape[0]] = test\n",
    "        test = np.ones((images_6.shape[0]))*6\n",
    "        cat[images_0.shape[0]+images_1.shape[0]+images_2.shape[0]+images_3.shape[0]+images_4.shape[0]+images_5.shape[0]:images_0.shape[0]+images_1.shape[0]+images_2.shape[0]+images_3.shape[0]+images_4.shape[0]+images_5.shape[0]+images_6.shape[0]] = test\n",
    "        test = np.ones((images_7.shape[0]))*7\n",
    "        cat[images_0.shape[0]+images_1.shape[0]+images_2.shape[0]+images_3.shape[0]+images_4.shape[0]+images_5.shape[0]+images_6.shape[0]:images_0.shape[0]+images_1.shape[0]+images_2.shape[0]+images_3.shape[0]+images_4.shape[0]+images_5.shape[0]+images_6.shape[0]+images_7.shape[0]] = test\n",
    "        test = np.ones((images_8.shape[0]))*8\n",
    "        cat[images_0.shape[0]+images_1.shape[0]+images_2.shape[0]+images_3.shape[0]+images_4.shape[0]+images_5.shape[0]+images_6.shape[0]+images_7.shape[0]:images_0.shape[0]+images_1.shape[0]+images_2.shape[0]+images_3.shape[0]+images_4.shape[0]+images_5.shape[0]+images_6.shape[0]+images_7.shape[0]+images_8.shape[0]] = test\n",
    "        test = np.ones((images_9.shape[0]))*9\n",
    "        cat[images_0.shape[0]+images_1.shape[0]+images_2.shape[0]+images_3.shape[0]+images_4.shape[0]+images_5.shape[0]+images_6.shape[0]+images_7.shape[0]+images_8.shape[0]:images_0.shape[0]+images_1.shape[0]+images_2.shape[0]+images_3.shape[0]+images_4.shape[0]+images_5.shape[0]+images_6.shape[0]+images_7.shape[0]+images_8.shape[0]+images_9.shape[0]] = test\n",
    "        self.cat = cat\n",
    "        \n",
    "    def __len__(self):\n",
    "        # return the size of the dataset (total number of images) as an integer\n",
    "        # this should be rather easy if you created a mapping in __init__\n",
    "        return self.images.shape[0]\n",
    "        \n",
    "    def __getitem__(self, idx):\n",
    "        # idx - the index of the sample requested\n",
    "        #\n",
    "        # Open the image correspoding to idx, apply transforms on it and return a tuple (image, label)\n",
    "        # where label is an integer from 0-9 (since notMNIST has 10 classes)\n",
    "        sample = self.images[idx,:,:]\n",
    "        sample.shape = (28, 28, 1)\n",
    "        scale = transforms.Scale((224,224))\n",
    "        toTensor = transforms.ToTensor()\n",
    "        if self.transform:\n",
    "            transformed_sample = self.transform(sample)\n",
    "        return transformed_sample, self.cat[idx]\n",
    "            "
   ]
  },
  {
   "cell_type": "markdown",
   "metadata": {},
   "source": [
    "We shall now load the dataset. You just need to supply the `root_dir` in the block below and if you implemented the above block correctly, it should work without any issues."
   ]
  },
  {
   "cell_type": "code",
   "execution_count": 4,
   "metadata": {},
   "outputs": [
    {
     "name": "stdout",
     "output_type": "stream",
     "text": [
      "Size of train dataset: 16854\n",
      "Size of test dataset: 1870\n",
      "Train images\n",
      "Test images\n"
     ]
    },
    {
     "data": {
      "image/png": "iVBORw0KGgoAAAANSUhEUgAAAQUAAAD8CAYAAAB+fLH0AAAABHNCSVQICAgIfAhkiAAAAAlwSFlz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\nKWRkZFSQSSEjI6OCTAoZGRkV/FcUpbJYrRNlEwAAAABJRU5ErkJggg==\n",
      "text/plain": [
       "<matplotlib.figure.Figure at 0x7fe92745a650>"
      ]
     },
     "metadata": {},
     "output_type": "display_data"
    }
   ],
   "source": [
    "composed_transform = transforms.Compose([transforms.ToPILImage(),transforms.Scale((224,224)),transforms.ToTensor()])\n",
<<<<<<< HEAD:ass1/assignment_1_1.ipynb
    "train_dataset = CDATA(root_dir='./notMNIST_small/', train=True, transform=composed_transform) # Supply proper root_dir\n",
    "test_dataset = CDATA(root_dir='./notMNIST_small/', train=False, transform=composed_transform) # Supply proper root_dir\n",
=======
    "print(composed_transform)\n",
    "train_dataset = CDATA(root_dir='../dataset/', train=True, transform=composed_transform) # Supply proper root_dir\n",
    "test_dataset = CDATA(root_dir='../dataset/', train=False, transform=composed_transform) # Supply proper root_dir\n",
>>>>>>> 6e5b73cc97a3c3a87a26a85b0322b74160f4f601:src/.ipynb_checkpoints/assignment_1_1-checkpoint.ipynb
    "\n",
    "# Let's check the size of the datasets, if implemented correctly they should be 16854 and 1870 respectively\n",
    "print('Size of train dataset: %d' % len(train_dataset))\n",
    "print('Size of test dataset: %d' % len(test_dataset))\n",
    "\n",
    "# Create loaders for the dataset\n",
    "train_loader = torch.utils.data.DataLoader(dataset=train_dataset, batch_size=batch_size, shuffle=True)\n",
    "test_loader = torch.utils.data.DataLoader(dataset=test_dataset, batch_size=batch_size, shuffle=False)\n",
    "\n",
    "# Let's look at one batch of train and test images\n",
    "def imshow(img):\n",
    "    npimg = img.numpy()\n",
    "    plt.imshow(np.transpose(npimg, (1, 2, 0)))\n",
    "    \n",
    "train_dataiter = iter(train_loader)\n",
    "train_images, train_labels = train_dataiter.next()\n",
    "print(\"Train images\")\n",
    "imshow(torchvision.utils.make_grid(train_images))\n",
    "\n",
    "test_dataiter = iter(test_loader)\n",
    "test_images, test_labels = test_dataiter.next()\n",
    "print(\"Test images\")\n",
    "imshow(torchvision.utils.make_grid(test_images))"
   ]
  },
  {
   "cell_type": "markdown",
   "metadata": {},
   "source": [
    "### VGG-16 and Resnet-18\n",
    "Now that you have created the dataset we can use it for training and testing neural networks. VGG-16 and Resnet-18 are both well-known deep-net architectures. VGG-16 is named as such since it has 16 layers in total (13 convolution and 3 fully-connected). Resnet-18 on the other hand is a Resnet architecture that uses skip-connections. PyTorch provides pre-trained models of both these architectures and we shall be using them directly. If you are interested in knowing how they have been defined do take a look at the source, [VGG](https://github.com/pytorch/vision/blob/master/torchvision/models/vgg.py), [Resnet](https://github.com/pytorch/vision/blob/master/torchvision/models/resnet.py)"
   ]
  },
  {
   "cell_type": "code",
   "execution_count": 5,
   "metadata": {
    "collapsed": true
   },
   "outputs": [],
   "source": [
    "md1['vgg16'] = md1['vgg16'].replace('https://', 'http://')\n",
    "md2['resnet18'] = md2['resnet18'].replace('https://', 'http://')\n",
    "vgg16 = models.vgg16(pretrained=True)\n",
    "resnet18 = models.resnet18(pretrained=True)\n",
    "\n",
    "# Code to change the last layers so that they only have 10 classes as output\n",
    "vgg16.classifier = nn.Sequential(\n",
    "    nn.Linear(512 * 7 * 7, 4096),\n",
    "    nn.ReLU(True),\n",
    "    nn.Dropout(),\n",
    "    nn.Linear(4096, 4096),\n",
    "    nn.ReLU(True),\n",
    "    nn.Dropout(),\n",
    "    nn.Linear(4096, 10),\n",
    ")\n",
    "resnet18.fc = nn.Linear(resnet18.fc.in_features, 10)\n",
    "\n",
    "# Add code for using CUDA here if it is available"
   ]
  },
  {
   "cell_type": "markdown",
   "metadata": {},
   "source": [
    "Define loss functions and optimizers"
   ]
  },
  {
   "cell_type": "code",
   "execution_count": 6,
   "metadata": {
    "collapsed": true
   },
   "outputs": [],
   "source": [
    "criterion = nn.CrossEntropyLoss()# Define cross-entropy loss\n",
    "optimizer_vgg16 = torch.optim.Adam(vgg16.classifier.parameters(), lr=learning_rate)# Use Adam optimizer, use learning_rate hyper parameter\n",
    "optimizer_resnet18 = torch.optim.Adam(resnet18.fc.parameters(), lr=learning_rate)# Use Adam optimizer, use learning_rate hyper parameter"
   ]
  },
  {
   "cell_type": "markdown",
   "metadata": {},
   "source": [
    "#### Finetuning\n",
    "Finetuning is nothing but training models after their weights have been loaded. This allows us to start at a better position than training from scratch. Since the models created already have weights loaded, you simply need to write a training loop."
   ]
  },
  {
   "cell_type": "code",
   "execution_count": 7,
   "metadata": {
    "collapsed": true
   },
   "outputs": [],
   "source": [
    "def train_vgg16():\n",
    "    # Write loops so as to train the model for N epochs, use num_epochs hyper parameter\n",
    "    # Train/finetune the VGG-16 network\n",
    "    # Store the losses for every epoch and generate a graph using matplotlib\n",
    "    loss_store = np.zeros((num_epochs,1))\n",
    "    for epoch in range(num_epochs):  # loop over the dataset multiple times\n",
    "\n",
    "        running_loss = 0.0\n",
    "        for i, data in enumerate(train_loader, 0):\n",
    "            image, labels = data\n",
    "            labels = labels.type(torch.LongTensor)\n",
    "            inputs = torch.randn(1,3,224,224)\n",
    "            for i in range(1):\n",
    "                inputs[i,0:1,:,:] = image[i,:,:,:]\n",
    "                inputs[i,1:2,:,:] = image[i,:,:,:]\n",
    "                inputs[i,2:3,:,:] = image[i,:,:,:]\n",
    "            # wrap them in Variable\n",
    "            inputs, labels = Variable(inputs), Variable(labels)\n",
    "\n",
    "            # forward + backward + optimize\n",
    "            outputs = vgg16(inputs)\n",
    "            loss = criterion(outputs, labels)\n",
    "            loss.backward()\n",
    "            optimizer_vgg16.step()\n",
    "\n",
    "            # print statistics\n",
    "            running_loss += loss.data[0]\n",
    "#             if i % 2000 == 1999:    # print every 2000 mini-batches\n",
    "#                 print('[%d, %5d] loss: %.3f' %\n",
    "#                       (epoch + 1, i + 1, running_loss / 2000))\n",
    "#                 running_loss = 0.0\n",
    "        loss_store[epoch,:] = running_loss\n",
    "    plt.plot(loss_store)\n",
    "    plt.show()\n",
    "            \n",
    "\n",
    "    print('Finished Training')\n",
    "    \n",
    "def train_resnet18():\n",
    "    # Same as above except now using the Resnet-18 network\n",
    "    # Write loops so as to train the model for N epochs, use num_epochs hyper parameter\n",
    "    # Train/finetune the VGG-16 network\n",
    "    # Store the losses for every epoch and generate a graph using matplotlib\n",
    "    loss_store = np.zeros((num_epochs, 1))\n",
    "    for epoch in range(num_epochs):  # loop over the dataset multiple times\n",
    "\n",
    "        running_loss = 0.0\n",
    "        for i, data in enumerate(train_loader, 0):\n",
    "            # get the inputs\n",
    "            image, labels = data\n",
    "            labels = labels.type(torch.LongTensor)\n",
    "            inputs = torch.randn(1,3,224,224)\n",
    "            for i in range(1):\n",
    "                inputs[i,0:1,:,:] = image[i,:,:,:]\n",
    "                inputs[i,1:2,:,:] = image[i,:,:,:]\n",
    "                inputs[i,2:3,:,:] = image[i,:,:,:]\n",
    "            \n",
    "            # wrap them in Variable\n",
    "            inputs, labels = Variable(inputs), Variable(labels)\n",
    "\n",
    "            # zero the parameter gradients\n",
    "            optimizer_resnet18.zero_grad()\n",
    "\n",
    "            # forward + backward + optimize\n",
    "            outputs = resnet18(inputs)\n",
    "            loss = criterion(outputs, labels)\n",
    "            loss.backward()\n",
    "            optimizer_resnet18.step()\n",
    "\n",
    "            # print statistics\n",
    "            running_loss += loss.data[0]\n",
    "#             if i % 50 == 49:    # print every 2000 mini-batches\n",
    "#                 print('[%d, %5d] loss: %.3f' %\n",
    "#                       (epoch + 1, i + 1, running_loss))\n",
    "#                 running_loss = 0.0\n",
    "        loss_store[epoch,:] = running_loss\n",
    "    plt.plot(loss_store)\n",
    "    plt.show()\n",
    "    print('Finished Training')"
   ]
  },
  {
   "cell_type": "markdown",
   "metadata": {},
   "source": [
    "Now let us start the training/finetuning"
   ]
  },
  {
   "cell_type": "code",
   "execution_count": null,
   "metadata": {},
   "outputs": [],
   "source": [
    "%time train_vgg16()\n",
    "%time train_resnet18()"
   ]
  },
  {
   "cell_type": "markdown",
   "metadata": {},
   "source": [
    "#### Testing\n",
    "Once finetuning is done we need to test it on the test set."
   ]
  },
  {
   "cell_type": "code",
   "execution_count": null,
   "metadata": {
    "collapsed": true
   },
   "outputs": [],
   "source": [
    "def test(model):\n",
    "    # Write loops for testing the model on the test set\n",
    "    # You should also print out the accuracy of the model\n",
    "    correct = 0\n",
    "    total = 0\n",
    "    for data in test_loader:\n",
    "        images, labels = data\n",
    "        outputs = model(Variable(images))\n",
    "        _, predicted = torch.max(outputs.data, 1)\n",
    "        total += labels.size(0)\n",
    "        correct += (predicted == labels).sum()\n",
    "\n",
    "    print('Accuracy of the network: %d %%' % (\n",
    "        100 * correct / total))"
   ]
  },
  {
   "cell_type": "markdown",
   "metadata": {},
   "source": [
    "Test the models"
   ]
  },
  {
   "cell_type": "code",
   "execution_count": 84,
   "metadata": {},
   "outputs": [
    {
     "ename": "NameError",
     "evalue": "name 'vgg16' is not defined",
     "output_type": "error",
     "traceback": [
      "\u001b[0;31m---------------------------------------------------------------------------\u001b[0m",
      "\u001b[0;31mNameError\u001b[0m                                 Traceback (most recent call last)",
      "\u001b[0;32m<ipython-input-84-78ad7d3d18f9>\u001b[0m in \u001b[0;36m<module>\u001b[0;34m()\u001b[0m\n\u001b[0;32m----> 1\u001b[0;31m \u001b[0mget_ipython\u001b[0m\u001b[0;34m(\u001b[0m\u001b[0;34m)\u001b[0m\u001b[0;34m.\u001b[0m\u001b[0mmagic\u001b[0m\u001b[0;34m(\u001b[0m\u001b[0;34mu'time test(vgg16)'\u001b[0m\u001b[0;34m)\u001b[0m\u001b[0;34m\u001b[0m\u001b[0m\n\u001b[0m\u001b[1;32m      2\u001b[0m \u001b[0mget_ipython\u001b[0m\u001b[0;34m(\u001b[0m\u001b[0;34m)\u001b[0m\u001b[0;34m.\u001b[0m\u001b[0mmagic\u001b[0m\u001b[0;34m(\u001b[0m\u001b[0;34mu'time test(resnet18)'\u001b[0m\u001b[0;34m)\u001b[0m\u001b[0;34m\u001b[0m\u001b[0m\n",
      "\u001b[0;32m/usr/local/lib/python2.7/dist-packages/IPython/core/interactiveshell.pyc\u001b[0m in \u001b[0;36mmagic\u001b[0;34m(self, arg_s)\u001b[0m\n\u001b[1;32m   2158\u001b[0m         \u001b[0mmagic_name\u001b[0m\u001b[0;34m,\u001b[0m \u001b[0m_\u001b[0m\u001b[0;34m,\u001b[0m \u001b[0mmagic_arg_s\u001b[0m \u001b[0;34m=\u001b[0m \u001b[0marg_s\u001b[0m\u001b[0;34m.\u001b[0m\u001b[0mpartition\u001b[0m\u001b[0;34m(\u001b[0m\u001b[0;34m' '\u001b[0m\u001b[0;34m)\u001b[0m\u001b[0;34m\u001b[0m\u001b[0m\n\u001b[1;32m   2159\u001b[0m         \u001b[0mmagic_name\u001b[0m \u001b[0;34m=\u001b[0m \u001b[0mmagic_name\u001b[0m\u001b[0;34m.\u001b[0m\u001b[0mlstrip\u001b[0m\u001b[0;34m(\u001b[0m\u001b[0mprefilter\u001b[0m\u001b[0;34m.\u001b[0m\u001b[0mESC_MAGIC\u001b[0m\u001b[0;34m)\u001b[0m\u001b[0;34m\u001b[0m\u001b[0m\n\u001b[0;32m-> 2160\u001b[0;31m         \u001b[0;32mreturn\u001b[0m \u001b[0mself\u001b[0m\u001b[0;34m.\u001b[0m\u001b[0mrun_line_magic\u001b[0m\u001b[0;34m(\u001b[0m\u001b[0mmagic_name\u001b[0m\u001b[0;34m,\u001b[0m \u001b[0mmagic_arg_s\u001b[0m\u001b[0;34m)\u001b[0m\u001b[0;34m\u001b[0m\u001b[0m\n\u001b[0m\u001b[1;32m   2161\u001b[0m \u001b[0;34m\u001b[0m\u001b[0m\n\u001b[1;32m   2162\u001b[0m     \u001b[0;31m#-------------------------------------------------------------------------\u001b[0m\u001b[0;34m\u001b[0m\u001b[0;34m\u001b[0m\u001b[0m\n",
      "\u001b[0;32m/usr/local/lib/python2.7/dist-packages/IPython/core/interactiveshell.pyc\u001b[0m in \u001b[0;36mrun_line_magic\u001b[0;34m(self, magic_name, line)\u001b[0m\n\u001b[1;32m   2079\u001b[0m                 \u001b[0mkwargs\u001b[0m\u001b[0;34m[\u001b[0m\u001b[0;34m'local_ns'\u001b[0m\u001b[0;34m]\u001b[0m \u001b[0;34m=\u001b[0m \u001b[0msys\u001b[0m\u001b[0;34m.\u001b[0m\u001b[0m_getframe\u001b[0m\u001b[0;34m(\u001b[0m\u001b[0mstack_depth\u001b[0m\u001b[0;34m)\u001b[0m\u001b[0;34m.\u001b[0m\u001b[0mf_locals\u001b[0m\u001b[0;34m\u001b[0m\u001b[0m\n\u001b[1;32m   2080\u001b[0m             \u001b[0;32mwith\u001b[0m \u001b[0mself\u001b[0m\u001b[0;34m.\u001b[0m\u001b[0mbuiltin_trap\u001b[0m\u001b[0;34m:\u001b[0m\u001b[0;34m\u001b[0m\u001b[0m\n\u001b[0;32m-> 2081\u001b[0;31m                 \u001b[0mresult\u001b[0m \u001b[0;34m=\u001b[0m \u001b[0mfn\u001b[0m\u001b[0;34m(\u001b[0m\u001b[0;34m*\u001b[0m\u001b[0margs\u001b[0m\u001b[0;34m,\u001b[0m\u001b[0;34m**\u001b[0m\u001b[0mkwargs\u001b[0m\u001b[0;34m)\u001b[0m\u001b[0;34m\u001b[0m\u001b[0m\n\u001b[0m\u001b[1;32m   2082\u001b[0m             \u001b[0;32mreturn\u001b[0m \u001b[0mresult\u001b[0m\u001b[0;34m\u001b[0m\u001b[0m\n\u001b[1;32m   2083\u001b[0m \u001b[0;34m\u001b[0m\u001b[0m\n",
      "\u001b[0;32m<decorator-gen-60>\u001b[0m in \u001b[0;36mtime\u001b[0;34m(self, line, cell, local_ns)\u001b[0m\n",
      "\u001b[0;32m/usr/local/lib/python2.7/dist-packages/IPython/core/magic.pyc\u001b[0m in \u001b[0;36m<lambda>\u001b[0;34m(f, *a, **k)\u001b[0m\n\u001b[1;32m    186\u001b[0m     \u001b[0;31m# but it's overkill for just that one bit of state.\u001b[0m\u001b[0;34m\u001b[0m\u001b[0;34m\u001b[0m\u001b[0m\n\u001b[1;32m    187\u001b[0m     \u001b[0;32mdef\u001b[0m \u001b[0mmagic_deco\u001b[0m\u001b[0;34m(\u001b[0m\u001b[0marg\u001b[0m\u001b[0;34m)\u001b[0m\u001b[0;34m:\u001b[0m\u001b[0;34m\u001b[0m\u001b[0m\n\u001b[0;32m--> 188\u001b[0;31m         \u001b[0mcall\u001b[0m \u001b[0;34m=\u001b[0m \u001b[0;32mlambda\u001b[0m \u001b[0mf\u001b[0m\u001b[0;34m,\u001b[0m \u001b[0;34m*\u001b[0m\u001b[0ma\u001b[0m\u001b[0;34m,\u001b[0m \u001b[0;34m**\u001b[0m\u001b[0mk\u001b[0m\u001b[0;34m:\u001b[0m \u001b[0mf\u001b[0m\u001b[0;34m(\u001b[0m\u001b[0;34m*\u001b[0m\u001b[0ma\u001b[0m\u001b[0;34m,\u001b[0m \u001b[0;34m**\u001b[0m\u001b[0mk\u001b[0m\u001b[0;34m)\u001b[0m\u001b[0;34m\u001b[0m\u001b[0m\n\u001b[0m\u001b[1;32m    189\u001b[0m \u001b[0;34m\u001b[0m\u001b[0m\n\u001b[1;32m    190\u001b[0m         \u001b[0;32mif\u001b[0m \u001b[0mcallable\u001b[0m\u001b[0;34m(\u001b[0m\u001b[0marg\u001b[0m\u001b[0;34m)\u001b[0m\u001b[0;34m:\u001b[0m\u001b[0;34m\u001b[0m\u001b[0m\n",
      "\u001b[0;32m/usr/local/lib/python2.7/dist-packages/IPython/core/magics/execution.pyc\u001b[0m in \u001b[0;36mtime\u001b[0;34m(self, line, cell, local_ns)\u001b[0m\n\u001b[1;32m   1179\u001b[0m         \u001b[0;32mif\u001b[0m \u001b[0mmode\u001b[0m\u001b[0;34m==\u001b[0m\u001b[0;34m'eval'\u001b[0m\u001b[0;34m:\u001b[0m\u001b[0;34m\u001b[0m\u001b[0m\n\u001b[1;32m   1180\u001b[0m             \u001b[0mst\u001b[0m \u001b[0;34m=\u001b[0m \u001b[0mclock2\u001b[0m\u001b[0;34m(\u001b[0m\u001b[0;34m)\u001b[0m\u001b[0;34m\u001b[0m\u001b[0m\n\u001b[0;32m-> 1181\u001b[0;31m             \u001b[0mout\u001b[0m \u001b[0;34m=\u001b[0m \u001b[0meval\u001b[0m\u001b[0;34m(\u001b[0m\u001b[0mcode\u001b[0m\u001b[0;34m,\u001b[0m \u001b[0mglob\u001b[0m\u001b[0;34m,\u001b[0m \u001b[0mlocal_ns\u001b[0m\u001b[0;34m)\u001b[0m\u001b[0;34m\u001b[0m\u001b[0m\n\u001b[0m\u001b[1;32m   1182\u001b[0m             \u001b[0mend\u001b[0m \u001b[0;34m=\u001b[0m \u001b[0mclock2\u001b[0m\u001b[0;34m(\u001b[0m\u001b[0;34m)\u001b[0m\u001b[0;34m\u001b[0m\u001b[0m\n\u001b[1;32m   1183\u001b[0m         \u001b[0;32melse\u001b[0m\u001b[0;34m:\u001b[0m\u001b[0;34m\u001b[0m\u001b[0m\n",
      "\u001b[0;32m<timed eval>\u001b[0m in \u001b[0;36m<module>\u001b[0;34m()\u001b[0m\n",
      "\u001b[0;31mNameError\u001b[0m: name 'vgg16' is not defined"
     ]
    }
   ],
   "source": [
    "%time test(vgg16)\n",
    "%time test(resnet18)"
   ]
  },
  {
   "cell_type": "markdown",
   "metadata": {},
   "source": [
    "You can add more code to save the models if you want but otherwise this notebook is complete"
   ]
  }
 ],
 "metadata": {
  "kernelspec": {
   "display_name": "Python 2",
   "language": "python",
   "name": "python2"
  },
  "language_info": {
   "codemirror_mode": {
    "name": "ipython",
    "version": 2
   },
   "file_extension": ".py",
   "mimetype": "text/x-python",
   "name": "python",
   "nbconvert_exporter": "python",
   "pygments_lexer": "ipython2",
<<<<<<< HEAD:ass1/assignment_1_1.ipynb
   "version": "2.7.6"
=======
   "version": "2.7.13"
>>>>>>> 6e5b73cc97a3c3a87a26a85b0322b74160f4f601:src/.ipynb_checkpoints/assignment_1_1-checkpoint.ipynb
  }
 },
 "nbformat": 4,
 "nbformat_minor": 2
}
