{
 "cells": [
  {
   "cell_type": "markdown",
   "metadata": {},
   "source": [
    "## Creating Custom Networks\n",
    "In this notebook you have to create a custom network whose architecture has been given, and use the dataset you created earlier to train and test it."
   ]
  },
  {
   "cell_type": "code",
   "execution_count": 1,
   "metadata": {
    "collapsed": true
   },
   "outputs": [],
   "source": [
    "# Import Statements\n",
    "#\n",
    "# Several of the imports you will need have been added but you will need to provide the\n",
    "# rest yourself; you should be able to figure out most of the imports as you go through\n",
    "# the notebook since without proper imports your code will fail to run\n",
    "#\n",
    "# All import statements go in this block\n",
    "\n",
    "from __future__ import division, print_function, unicode_literals\n",
    "import sys\n",
    "sys.path.append('/home/tulsyan/apps/miniconda2/lib/python2.7/site-packages/')\n",
    "sys.path.append('/home/tulsyan/apps/miniconda2/lib/python2.7/site-packages/torchvision-0.1.9-py2.7.egg')\n",
    "# print(sys.path)\n",
    "\n",
    "import numpy as np\n",
    "import torch\n",
    "import torch.nn as nn\n",
    "import torch.utils.data\n",
    "import torchvision\n",
    "import torchvision.models as models\n",
    "import torchvision.transforms as transforms\n",
    "import torch.nn.functional as tnf\n",
    "from torch.autograd import Variable\n",
    "from torchvision import datasets\n",
    "\n",
    "%matplotlib inline\n",
    "import matplotlib.pyplot as plt"
   ]
  },
  {
   "cell_type": "markdown",
   "metadata": {},
   "source": [
    "All hyper parameters go in the next block"
   ]
  },
  {
   "cell_type": "code",
   "execution_count": 2,
   "metadata": {
    "collapsed": true
   },
   "outputs": [],
   "source": [
    "use_gpu = True and torch.cuda.is_available()\n",
    "\n",
    "batch_size = 100\n",
    "num_epochs = 5\n",
    "learning_rate = 0.0005\n",
    "# 5, 0.001: 92%\n",
    "# 5, 0.005: 92%\n",
    "# 5, 0.01 : 91%\n",
    "# 5, 0.05 : 88%\n",
    "# 5, 0.1  : 10%\n",
    "# 5, 0.5  : 10%\n",
    "# 10, 0.0002: 92%\n",
    "# 10, 0.0005: 92%\n",
    "# 10, 0.001: 92%\n",
    "# 10, 0.005: 91%\n",
    "# 10, 0.01 : 91%\n",
    "# 10, 0.05 : 89%\n",
    "# 10, 0.1  : 86%\n",
    "# 10, 0.5  : 10%\n",
    "# 20, 0.0005: 91%\n",
    "# 20, 0.001: 89%\n",
    "# 20, 0.005: 91%\n",
    "# 20, 0.01 : 90%\n",
    "# 20, 0.05 : 89%\n",
    "# 20, 0.1  : 10%\n",
    "# 50, 0.0005: 91%\n",
    "# 50, 0.001: 90%\n",
    "# 50, 0.005: 88%\n",
    "# 50, 0.01 : 90%\n",
    "# 50, 0.05 : 89%\n",
    "# 50, 0.1  : 84%\n",
    "# 50, 0.5  : 10%\n",
    "# 100,0.0005: 91%"
   ]
  },
  {
   "cell_type": "markdown",
   "metadata": {},
   "source": [
    "### Create Custom Dataset and Loader\n",
    "This is the same as part 1. Simply use the same code to create the dataset."
   ]
  },
  {
   "cell_type": "code",
   "execution_count": 3,
   "metadata": {
    "collapsed": true
   },
   "outputs": [],
   "source": [
    "class CDATA(torch.utils.data.Dataset):\n",
    "    # Copy the code from part 1\n",
    "    def __init__(self, root_dir, train, transform=None):\n",
    "        # root_dir  - the root directory of the dataset\n",
    "        # train     - a boolean parameter representing whether to return the training set or the test set\n",
    "        # transform - the transforms to be applied on the images before returning them\n",
    "        #\n",
    "        # In this function store the parameters in instance variables and make a mapping\n",
    "        # from images to labels and keep it as an instance variable. Make sure to check which\n",
    "        # dataset is required; train or test; and create the mapping accordingly.\n",
    "        self.root_dir = root_dir\n",
    "        self.train = train\n",
    "        self.transform = transform\n",
    "        if train:\n",
    "            root_dir += 'train/'\n",
    "        else:\n",
    "            root_dir += 'test/'\n",
    "        self.imagefolder_dataset = datasets.ImageFolder(root=root_dir,\n",
    "                                                       transform=transform)\n",
    "        \n",
    "    def __len__(self):\n",
    "        # return the size of the dataset (total number of images) as an integer\n",
    "        # this should be rather easy if you created a mapping in __init__\n",
    "        \n",
    "        return self.imagefolder_dataset.__len__()\n",
    "        \n",
    "    def __getitem__(self, idx):\n",
    "        # idx - the index of the sample requested\n",
    "        #\n",
    "        # Open the image correspoding to idx, apply transforms on it and return a tuple (image, label)\n",
    "        # where label is an integer from 0-9 (since notMNIST has 10 classes)\n",
    "        image, label = self.imagefolder_dataset.__getitem__(idx)\n",
    "        return (image, label)\n",
    "    \n",
    "composed_transform = transforms.Compose([transforms.Scale((32,32)),transforms.ToTensor()])\n",
    "train_dataset = CDATA(root_dir='../custom_dataset/', train=True, transform=composed_transform) # Supply proper root_dir\n",
    "test_dataset = CDATA(root_dir='../custom_dataset/', train=False, transform=composed_transform) # Supply proper root_dir\n",
    "\n",
    "train_loader = torch.utils.data.DataLoader(dataset=train_dataset, batch_size=batch_size, shuffle=True)\n",
    "test_loader = torch.utils.data.DataLoader(dataset=test_dataset, batch_size=batch_size, shuffle=False)"
   ]
  },
  {
   "cell_type": "markdown",
   "metadata": {},
   "source": [
    "### Creating a Custom Network\n",
    "It's time to create a new custom network. This network is based on Resnet (indeed it is a resnet since it uses skip connections). The architecture of the network is provided in the diagram. It specifies the layer names, layer types as well as their parameters.\n",
    "<img src=\"../architecture/architecture.png\" width=100>\n",
    "[Full size image](../architecture/architecture.html)"
   ]
  },
  {
   "cell_type": "code",
   "execution_count": 4,
   "metadata": {
    "collapsed": true
   },
   "outputs": [],
   "source": [
    "class CustomResnet(nn.Module): # Extend PyTorch's Module class\n",
    "    def __init__(self, num_classes = 10):\n",
    "        super(CustomResnet, self).__init__() # Must call super __init__()\n",
    "        \n",
    "        # Define the layers of the network here\n",
    "        # There should be 17 total layers as evident from the diagram\n",
    "        # The parameters and names for the layers are provided in the diagram\n",
    "        # The variable names have to be the same as the ones in the diagram\n",
    "        # Otherwise, the weights will not load\n",
    "        self.conv1 = nn.Conv2d(3, 64, kernel_size=7, stride=2, padding=3, bias=True)\n",
    "        self.bn1 = nn.BatchNorm2d(64)\n",
    "        self.relu = nn.ReLU(inplace=True)\n",
    "        self.maxpool = nn.MaxPool2d(kernel_size=3, stride=2, padding=1)\n",
    "        self.lyr1conv1 = nn.Conv2d(64, 64, kernel_size=3, stride=1, padding=1, bias=True)\n",
    "        self.lyr1bn1 = nn.BatchNorm2d(64)\n",
    "        self.lyr1relu1 = nn.ReLU(inplace=True)\n",
    "        self.lyr1conv2 = nn.Conv2d(64, 64, kernel_size=3, stride=1, padding=1, bias=True)\n",
    "        self.lyr1bn2 = nn.BatchNorm2d(64)\n",
    "        self.lyr1relu2 = nn.ReLU(inplace=True)\n",
    "        self.lyr2conv1 = nn.Conv2d(64, 64, kernel_size=3, stride=1, padding=1, bias=True)\n",
    "        self.lyr2bn1 = nn.BatchNorm2d(64)\n",
    "        self.lyr2relu1 = nn.ReLU(inplace=True)\n",
    "        self.lyr2conv2 = nn.Conv2d(64, 64, kernel_size=3, stride=1, padding=1, bias=True)\n",
    "        self.lyr2bn2 = nn.BatchNorm2d(64)\n",
    "        self.lyr2relu2 = nn.ReLU(inplace=True)\n",
    "        self.fc = nn.Linear(4096, num_classes)\n",
    "        \n",
    "    def forward(self, x):\n",
    "        # Here you have to define the forward pass\n",
    "        # Make sure you take care of the skip connections\n",
    "        # print(x)\n",
    "        x = self.conv1(x)\n",
    "        x = self.bn1(x)\n",
    "        x = self.relu(x)\n",
    "        x = self.maxpool(x)\n",
    "        x1 = self.lyr1conv1(x)\n",
    "        x1 = self.lyr1bn1(x1)\n",
    "        x1 = self.lyr1relu1(x1)\n",
    "        x1 = self.lyr1conv2(x1)\n",
    "        x1 = self.lyr1bn2(x1)\n",
    "        x1 = self.lyr1relu2(x+x1)\n",
    "        x = self.lyr2conv1(x1)\n",
    "        x = self.lyr2bn1(x)\n",
    "        x = self.lyr2relu1(x)\n",
    "        x = self.lyr2conv2(x)\n",
    "        x = self.lyr2bn2(x)\n",
    "        x = self.lyr2relu2(x+x1)\n",
    "        x = self.fc(x.view(x.size(0), -1))\n",
    "        return x;"
   ]
  },
  {
   "cell_type": "markdown",
   "metadata": {},
   "source": [
    "#### Finetune on pre-trained CIFAR-100 weights\n",
    "We shall now finetune our model using pretrained CIFAR-100 weights."
   ]
  },
  {
   "cell_type": "code",
   "execution_count": 7,
   "metadata": {
    "collapsed": true
   },
   "outputs": [],
   "source": [
    "model = CustomResnet(num_classes=100) # 100 classes since CIFAR-100 has 100 classes\n",
    "\n",
    "# Load CIFAR-100 weights. (Download them from assignment page)\n",
    "# If network was properly implemented, weights should load without any problems\n",
    "model.load_state_dict(torch.load('../CIFAR-100_weights')) # Supply the path to the weight file\n",
    "\n",
    "if use_gpu:\n",
    "    model.cuda()"
   ]
  },
  {
   "cell_type": "markdown",
   "metadata": {},
   "source": [
    "##### Optional\n",
    "As a sanity check you may load the CIFAR-100 test dataset and test the above model. You should get an accuracy of ~41%. This part is optional and is meant for your convenience."
   ]
  },
  {
   "cell_type": "code",
   "execution_count": 9,
   "metadata": {
    "scrolled": true
   },
   "outputs": [
    {
     "name": "stdout",
     "output_type": "stream",
     "text": [
      "Files already downloaded and verified\n",
      "Accuracy of the network on the 10000 test images: 41 %\n",
      "CPU times: user 2.04 s, sys: 286 ms, total: 2.33 s\n",
      "Wall time: 2.32 s\n"
     ]
    }
   ],
   "source": [
    "# Block for optionally running the model on CIFAR-100 test set\n",
    "ctest_dataset = datasets.CIFAR100(root='../cifar_dataset', \n",
    "                            train=False, \n",
    "                            transform=transforms.ToTensor(),  \n",
    "                            download=True)\n",
    "\n",
    "# Data Loader (Input Pipeline)\n",
    "ctest_loader = torch.utils.data.DataLoader(dataset=ctest_dataset, \n",
    "                                          batch_size=batch_size, \n",
    "                                          shuffle=True)\n",
    "\n",
    "def ctest():\n",
    "    # Write loops for testing the model on the test set\n",
    "    # You should also print out the accuracy of the model\n",
    "    correct = 0\n",
    "    total = 0\n",
    "    \n",
    "    for images, labels in ctest_loader:\n",
    "        images = Variable(images)\n",
    "        \n",
    "        if (use_gpu):\n",
    "            images = images.cuda()\n",
    "            \n",
    "        outputs = model(images)\n",
    "        _, predicted = torch.max(outputs.data, 1)\n",
    "        total += labels.size(0)\n",
    "        correct += (predicted.cpu() == labels.cpu()).sum()\n",
    "    print('Accuracy of the network on the %d test images: %d %%' % (total, 100 * correct / total))\n",
    "\n",
    "    \n",
    "%time ctest()"
   ]
  },
  {
   "cell_type": "markdown",
   "metadata": {},
   "source": [
    "Let's finetune the model."
   ]
  },
  {
   "cell_type": "code",
   "execution_count": 31,
   "metadata": {
    "scrolled": true
   },
   "outputs": [
    {
     "name": "stdout",
     "output_type": "stream",
     "text": [
      "Epoch [1/5], Step [100/168], Loss: 0.2194\n",
      "Epoch [2/5], Step [100/168], Loss: 0.1169\n",
      "Epoch [3/5], Step [100/168], Loss: 0.2301\n",
      "Epoch [4/5], Step [100/168], Loss: 0.1944\n",
      "Epoch [5/5], Step [100/168], Loss: 0.1318\n"
     ]
    },
    {
     "data": {
      "image/png": "[encoded data removed]",
      "text/plain": [
       "<matplotlib.figure.Figure at 0x7f507c070750>"
      ]
     },
     "metadata": {},
     "output_type": "display_data"
    },
    {
     "name": "stdout",
     "output_type": "stream",
     "text": [
      "CPU times: user 1min 33s, sys: 18.5 s, total: 1min 51s\n",
      "Wall time: 1min 51s\n",
      "Accuracy of the network on the 1870 test images: 91 %\n",
      "CPU times: user 923 ms, sys: 245 ms, total: 1.17 s\n",
      "Wall time: 1.07 s\n"
     ]
    }
   ],
   "source": [
    "# Change last layer to output 10 classes since our dataset has 10 classes\n",
    "# Complete this statement. It is similar to the resnet18 case\n",
    "model.fc = nn.Linear(model.fc.in_features, 10)\n",
    "if use_gpu and torch.cuda.is_available():\n",
    "    model.cuda()\n",
    "\n",
    "# Loss function and optimizers\n",
    "# Define cross-entropy loss\n",
    "criterion = nn.CrossEntropyLoss()\n",
    "# Use Adam optimizer, use learning_rate hyper parameter\n",
    "optimizer = torch.optim.Adam(model.parameters(), lr=learning_rate)\n",
    "\n",
    "def train():\n",
    "    # Code for training the model\n",
    "    # Make sure to output a matplotlib graph of training losses\n",
    "    loss_store = []\n",
    "    for epoch in range(num_epochs):\n",
    "        running_loss = 0.0\n",
    "        for i, (images, labels) in enumerate(train_loader):\n",
    "            # Convert torch tensor to Variable\n",
    "            images = Variable(images)\n",
    "            labels = Variable(labels)\n",
    "            if (use_gpu):\n",
    "                images = images.cuda()\n",
    "                labels = labels.cuda()\n",
    "            # Forward + Backward + Optimize\n",
    "            optimizer.zero_grad()  # zero the gradient buffer\n",
    "            outputs = model(images)\n",
    "            loss = criterion(outputs, labels)\n",
    "            loss.backward()\n",
    "            optimizer.step()    \n",
    "            \n",
    "            running_loss += loss.data[0]\n",
    "            \n",
    "            if (i+1)%100 == 0:\n",
    "                print ('Epoch [%d/%d], Step [%d/%d], Loss: %.4f' \n",
    "                       %(epoch+1, num_epochs, i+1, len(train_dataset)//batch_size, loss.data[0]))\n",
    "        loss_store += [running_loss]\n",
    "\n",
    "    plt.plot(loss_store)\n",
    "    plt.show()\n",
    "\n",
    "%time train()\n",
    "%time test()"
   ]
  },
  {
   "cell_type": "markdown",
   "metadata": {},
   "source": [
    "# Test the finetuned model"
   ]
  },
  {
   "cell_type": "code",
   "execution_count": 8,
   "metadata": {},
   "outputs": [
    {
     "name": "stdout",
     "output_type": "stream",
     "text": [
      "Accuracy of the network on the 1870 test images: 91 %\n",
      "CPU times: user 943 ms, sys: 145 ms, total: 1.09 s\n",
      "Wall time: 1.1 s\n"
     ]
    }
   ],
   "source": [
    "def test():\n",
    "    # Write loops for testing the model on the test set\n",
    "    # You should also print out the accuracy of the model\n",
    "    correct = 0\n",
    "    total = 0\n",
    "    \n",
    "    for i, (images, labels) in enumerate(test_loader):\n",
    "        images = Variable(images)\n",
    "        \n",
    "        if (use_gpu):\n",
    "            images = images.cuda()\n",
    "            \n",
    "        outputs = model(images)\n",
    "        _, predicted = torch.max(outputs.data, 1)\n",
    "        total += labels.size(0)\n",
    "        correct += (predicted.cpu() == labels.cpu()).sum()\n",
    "    print('Accuracy of the network on the %d test images: %d %%' % (total, 100 * correct / total))\n",
    "    \n",
    "%time test()"
   ]
  },
  {
   "cell_type": "markdown",
   "metadata": {},
   "source": [
    "#### Training from scratch\n",
    "Now we shall try training the model from scratch and observe the differences."
   ]
  },
  {
   "cell_type": "code",
   "execution_count": null,
   "metadata": {
    "collapsed": true
   },
   "outputs": [],
   "source": [
    "# Reinstantiate the model and optimizer\n",
    "model = CustomResnet(num_classes = 10)\n",
    "# Use Adam optimizer, use learning_rate hyper parameter\n",
    "optimizer = torch.optim.Adam(model.parameters(), lr=learning_rate)\n",
    "\n",
    "# Train\n",
    "%time train()\n",
    "\n",
    "# Test\n",
    "%time test()"
   ]
  },
  {
   "cell_type": "markdown",
   "metadata": {},
   "source": [
    "This is the end of Assignment 1"
   ]
  }
 ],
 "metadata": {
  "kernelspec": {
   "display_name": "Python 2",
   "language": "python",
   "name": "python2"
  },
  "language_info": {
   "codemirror_mode": {
    "name": "ipython",
    "version": 2
   },
   "file_extension": ".py",
   "mimetype": "text/x-python",
   "name": "python",
   "nbconvert_exporter": "python",
   "pygments_lexer": "ipython2",
   "version": "2.7.13"
  }
 },
 "nbformat": 4,
 "nbformat_minor": 2
}
